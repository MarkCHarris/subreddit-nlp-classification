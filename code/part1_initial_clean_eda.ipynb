{
 "cells": [
  {
   "cell_type": "markdown",
   "id": "e7029103-a79b-4e2b-b8e1-77dbaf8569ac",
   "metadata": {},
   "source": [
    "# Code Notebook 1: Data Collection and Inital Cleaning and EDA #"
   ]
  },
  {
   "cell_type": "markdown",
   "id": "6a4692c4-dcb3-4482-997f-43711b8f43b5",
   "metadata": {},
   "source": [
    "This notbook contains the initial EDA of the subreddit data.\n",
    "- Null values are identified and handled.\n",
    "- Comment post times are converted to year, month, and day columns.\n",
    "- Features with the most potential for this analysis are selected.  All data was originally collected in case I discovered I wanted to use a feature I didn't originally anticipate.\n",
    "- The most frequent comments in each subreddit were examined for common patterns that indicate a comment should be dropped.  Examples of this were [Removed] comments and comments from moderator bots.\n",
    "\n",
    "The aim of this project is to identify differences in the discourse among scientist vs among members of the general public who have shown enthusiasm for human advancement.  NLP will be used to examine differences between posts on the Science and Futurology subreddits, and classification models will be used to attempt to identify which subreddit posts were from.  The classification models will be evaluated based primarily on F1 score, to ensure that they are not skewed towards one subreddit.  Other scores considered will be precision, recall, and ROC AUC.\n",
    "\n",
    "Please see the README.md for a more in-depth discussion of the motivation for this project."
   ]
  },
  {
   "cell_type": "code",
   "execution_count": 1,
   "id": "5b07ec80-6100-42a3-8262-c060618035a0",
   "metadata": {},
   "outputs": [],
   "source": [
    "import pandas as pd\n",
    "\n",
    "import datetime\n",
    "import re\n",
    "\n",
    "import cleantools as ct"
   ]
  },
  {
   "cell_type": "markdown",
   "id": "b68623ea-dea8-4602-aae3-85883986d3a2",
   "metadata": {},
   "source": [
    "### Section 1: Obtaining and Importing Data ###"
   ]
  },
  {
   "cell_type": "markdown",
   "id": "64e5b32e-a579-4ec2-899a-2bfa16c3929d",
   "metadata": {},
   "source": [
    "*The script \"get_reddit_data.py,\" in this folder, was used to collect the data for this project.*"
   ]
  },
  {
   "cell_type": "code",
   "execution_count": 2,
   "id": "9f232e86-b284-47f3-b09c-8295156a5206",
   "metadata": {},
   "outputs": [],
   "source": [
    "science_full = pd.concat([pd.read_csv(f'../data/sci_{i}.csv') for i in range(53)])\n",
    "future_full = pd.concat([pd.read_csv(f'../data/future_{i}.csv') for i in range(53)])"
   ]
  },
  {
   "cell_type": "code",
   "execution_count": 3,
   "id": "3ac06f70-fbc3-4213-ba29-acb2e440cd33",
   "metadata": {},
   "outputs": [],
   "source": [
    "# Saving the lengths of the original dataframes for comparison after cleaning, so I will know how many comments are dropped.\n",
    "science_startlen = len(science_full)\n",
    "future_startlen = len(future_full)"
   ]
  },
  {
   "cell_type": "code",
   "execution_count": 4,
   "id": "bc6e783e-a05f-4e09-a18e-02db12bcd737",
   "metadata": {},
   "outputs": [],
   "source": [
    "science_full.reset_index(inplace=True)\n",
    "future_full.reset_index(inplace=True)"
   ]
  },
  {
   "cell_type": "markdown",
   "id": "147ba0a8-ca4d-4ac5-9215-8c408efea170",
   "metadata": {},
   "source": [
    "### Section 2: Identifying and Handling Null Values ###"
   ]
  },
  {
   "cell_type": "code",
   "execution_count": 5,
   "id": "451eaa8a-c5bb-46a8-a374-aff138ed7a04",
   "metadata": {},
   "outputs": [
    {
     "data": {
      "text/plain": [
       "1"
      ]
     },
     "execution_count": 5,
     "metadata": {},
     "output_type": "execute_result"
    }
   ],
   "source": [
    "science_full['created_utc'].isna().sum()"
   ]
  },
  {
   "cell_type": "code",
   "execution_count": 6,
   "id": "0b00c7ee-39b4-40c5-a32a-221549fbae59",
   "metadata": {},
   "outputs": [
    {
     "data": {
      "text/html": [
       "<div>\n",
       "<style scoped>\n",
       "    .dataframe tbody tr th:only-of-type {\n",
       "        vertical-align: middle;\n",
       "    }\n",
       "\n",
       "    .dataframe tbody tr th {\n",
       "        vertical-align: top;\n",
       "    }\n",
       "\n",
       "    .dataframe thead th {\n",
       "        text-align: right;\n",
       "    }\n",
       "</style>\n",
       "<table border=\"1\" class=\"dataframe\">\n",
       "  <thead>\n",
       "    <tr style=\"text-align: right;\">\n",
       "      <th></th>\n",
       "      <th>body</th>\n",
       "      <th>created_utc</th>\n",
       "    </tr>\n",
       "  </thead>\n",
       "  <tbody>\n",
       "    <tr>\n",
       "      <th>511129</th>\n",
       "      <td>The dose makes the poison</td>\n",
       "      <td>NaN</td>\n",
       "    </tr>\n",
       "  </tbody>\n",
       "</table>\n",
       "</div>"
      ],
      "text/plain": [
       "                             body created_utc\n",
       "511129  The dose makes the poison         NaN"
      ]
     },
     "execution_count": 6,
     "metadata": {},
     "output_type": "execute_result"
    }
   ],
   "source": [
    "science_full[['body', 'created_utc']][science_full['created_utc'].isna()]"
   ]
  },
  {
   "cell_type": "code",
   "execution_count": 7,
   "id": "3a8b1d45-6814-4d21-b67a-823b40488cfd",
   "metadata": {},
   "outputs": [
    {
     "data": {
      "text/plain": [
       "1"
      ]
     },
     "execution_count": 7,
     "metadata": {},
     "output_type": "execute_result"
    }
   ],
   "source": [
    "science_full['body'].isna().sum()"
   ]
  },
  {
   "cell_type": "code",
   "execution_count": 8,
   "id": "b770ef3a-33c2-40bc-803f-eabfb0fb197e",
   "metadata": {},
   "outputs": [
    {
     "data": {
      "text/html": [
       "<div>\n",
       "<style scoped>\n",
       "    .dataframe tbody tr th:only-of-type {\n",
       "        vertical-align: middle;\n",
       "    }\n",
       "\n",
       "    .dataframe tbody tr th {\n",
       "        vertical-align: top;\n",
       "    }\n",
       "\n",
       "    .dataframe thead th {\n",
       "        text-align: right;\n",
       "    }\n",
       "</style>\n",
       "<table border=\"1\" class=\"dataframe\">\n",
       "  <thead>\n",
       "    <tr style=\"text-align: right;\">\n",
       "      <th></th>\n",
       "      <th>body</th>\n",
       "      <th>created_utc</th>\n",
       "    </tr>\n",
       "  </thead>\n",
       "  <tbody>\n",
       "    <tr>\n",
       "      <th>511130</th>\n",
       "      <td>NaN</td>\n",
       "      <td>/r/science/comments/oturfg/caffeinated_bumbleb...</td>\n",
       "    </tr>\n",
       "  </tbody>\n",
       "</table>\n",
       "</div>"
      ],
      "text/plain": [
       "       body                                        created_utc\n",
       "511130  NaN  /r/science/comments/oturfg/caffeinated_bumbleb..."
      ]
     },
     "execution_count": 8,
     "metadata": {},
     "output_type": "execute_result"
    }
   ],
   "source": [
    "science_full[['body', 'created_utc']][science_full['body'].isna()]"
   ]
  },
  {
   "cell_type": "markdown",
   "id": "6b7965bf-21e0-41c0-977d-d93c8d2d8e24",
   "metadata": {},
   "source": [
    "I'm not sure what happened to cause these two posts to have NaN values for created date and body, but they are such a small number of comments that I have no problem dropping them."
   ]
  },
  {
   "cell_type": "code",
   "execution_count": 9,
   "id": "2172fd33-1216-44ab-9e2c-6d8c181b781d",
   "metadata": {},
   "outputs": [
    {
     "data": {
      "text/plain": [
       "0"
      ]
     },
     "execution_count": 9,
     "metadata": {},
     "output_type": "execute_result"
    }
   ],
   "source": [
    "future_full['created_utc'].isna().sum()"
   ]
  },
  {
   "cell_type": "code",
   "execution_count": 10,
   "id": "c9217211-7cfb-4245-9c23-0211d4501a4c",
   "metadata": {},
   "outputs": [
    {
     "data": {
      "text/plain": [
       "0"
      ]
     },
     "execution_count": 10,
     "metadata": {},
     "output_type": "execute_result"
    }
   ],
   "source": [
    "future_full['body'].isna().sum()"
   ]
  },
  {
   "cell_type": "code",
   "execution_count": 11,
   "id": "bd8dfb8e-125c-4610-bdb3-de0ebd59c5de",
   "metadata": {},
   "outputs": [],
   "source": [
    "science_full.drop([511129, 511130], inplace=True)\n",
    "science_full.reset_index(inplace=True)"
   ]
  },
  {
   "cell_type": "markdown",
   "id": "ac0df28f-84ba-48ea-b89e-8c1f7ffe4b94",
   "metadata": {},
   "source": [
    "### Section 3: Converting UTC timestamp to more convenient post time information. ###"
   ]
  },
  {
   "cell_type": "code",
   "execution_count": 12,
   "id": "d6436646-3607-49e4-aa10-21f5c865010e",
   "metadata": {},
   "outputs": [],
   "source": [
    "# I learned how to convert the Unix timestamp here:\n",
    "# https://stackoverflow.com/questions/3694487/in-python-how-do-you-convert-seconds-since-epoch-to-a-datetime-object\n",
    "def convert_time(timestamp):\n",
    "    return datetime.datetime.fromtimestamp(timestamp)"
   ]
  },
  {
   "cell_type": "code",
   "execution_count": 13,
   "id": "e7d233f6-2210-4cf1-9c9c-20e4ebcf9a9b",
   "metadata": {
    "tags": []
   },
   "outputs": [],
   "source": [
    "def get_year(date):\n",
    "    return date.year"
   ]
  },
  {
   "cell_type": "code",
   "execution_count": 14,
   "id": "f6ee0dfb-df8c-4de0-9cf5-0f9c23c782bc",
   "metadata": {},
   "outputs": [],
   "source": [
    "def get_month(date):\n",
    "    return date.month"
   ]
  },
  {
   "cell_type": "code",
   "execution_count": 15,
   "id": "cbc58bec-6d64-426f-a8a0-1c9210db01ac",
   "metadata": {},
   "outputs": [],
   "source": [
    "def get_day(date):\n",
    "    return date.day"
   ]
  },
  {
   "cell_type": "code",
   "execution_count": 16,
   "id": "ab49d069-437b-420c-81e3-154b405bfcea",
   "metadata": {
    "tags": []
   },
   "outputs": [],
   "source": [
    "science_full['created_utc'] = science_full['created_utc'].apply(ct.convert_to_float)\n",
    "science_full['date'] = science_full['created_utc'].apply(convert_time)\n",
    "science_full['year'] = science_full['date'].apply(get_year)\n",
    "science_full['month'] = science_full['date'].apply(get_month)\n",
    "science_full['day'] = science_full['date'].apply(get_day)"
   ]
  },
  {
   "cell_type": "code",
   "execution_count": 17,
   "id": "7c51bfcd-c9e1-43f0-9304-c7e83761993d",
   "metadata": {},
   "outputs": [],
   "source": [
    "future_full['created_utc'] = future_full['created_utc'].apply(ct.convert_to_float)\n",
    "future_full['date'] = future_full['created_utc'].apply(convert_time)\n",
    "future_full['year'] = future_full['date'].apply(get_year)\n",
    "future_full['month'] = future_full['date'].apply(get_month)\n",
    "future_full['day'] = future_full['date'].apply(get_day)"
   ]
  },
  {
   "cell_type": "markdown",
   "id": "a67448ff-8564-42f8-9b4c-cc982527040c",
   "metadata": {},
   "source": [
    "The above code has converted the utc timestamps to year, month, and day, and then added a column for each to the dataframe."
   ]
  },
  {
   "cell_type": "code",
   "execution_count": 18,
   "id": "ce2e8e5e-1080-4e43-bca5-42c1db689640",
   "metadata": {},
   "outputs": [
    {
     "data": {
      "text/plain": [
       "2021    529873\n",
       "Name: year, dtype: int64"
      ]
     },
     "execution_count": 18,
     "metadata": {},
     "output_type": "execute_result"
    }
   ],
   "source": [
    "science_full['year'].value_counts()"
   ]
  },
  {
   "cell_type": "code",
   "execution_count": 19,
   "id": "ef49de42-e81c-4582-80ed-2c51628296ae",
   "metadata": {},
   "outputs": [
    {
     "data": {
      "text/plain": [
       "8     188779\n",
       "9     155970\n",
       "10    148766\n",
       "7      36358\n",
       "Name: month, dtype: int64"
      ]
     },
     "execution_count": 19,
     "metadata": {},
     "output_type": "execute_result"
    }
   ],
   "source": [
    "science_full['month'].value_counts()"
   ]
  },
  {
   "cell_type": "code",
   "execution_count": 20,
   "id": "1a694d67-960d-4c6e-a3da-01870d233906",
   "metadata": {},
   "outputs": [
    {
     "data": {
      "text/plain": [
       "2021    529866\n",
       "Name: year, dtype: int64"
      ]
     },
     "execution_count": 20,
     "metadata": {},
     "output_type": "execute_result"
    }
   ],
   "source": [
    "future_full['year'].value_counts()"
   ]
  },
  {
   "cell_type": "code",
   "execution_count": 21,
   "id": "0b64e88f-6708-46ae-a634-232b6d9c8d31",
   "metadata": {},
   "outputs": [
    {
     "data": {
      "text/plain": [
       "6     129348\n",
       "8     112560\n",
       "7     104622\n",
       "9      90938\n",
       "10     63712\n",
       "5      28686\n",
       "Name: month, dtype: int64"
      ]
     },
     "execution_count": 21,
     "metadata": {},
     "output_type": "execute_result"
    }
   ],
   "source": [
    "future_full['month'].value_counts()"
   ]
  },
  {
   "cell_type": "markdown",
   "id": "cb54b08f-c45a-41f1-920c-41cf8404d070",
   "metadata": {},
   "source": [
    "My posts cover a similar, but not identical, time period.  This may be worth keeping in mind, but I don't see a big enough difference to be a problem right now."
   ]
  },
  {
   "cell_type": "markdown",
   "id": "557c569d-5e83-4d43-ab40-98a93711edbd",
   "metadata": {},
   "source": [
    "### Section 4: Selecting useful features and confirming they have correct data types ###"
   ]
  },
  {
   "cell_type": "code",
   "execution_count": 22,
   "id": "e610728a-0573-4ac7-a719-f0d348e70cd0",
   "metadata": {},
   "outputs": [],
   "source": [
    "interesting_cols = ['subreddit', 'body', 'score', 'author', 'year', 'month', 'day']"
   ]
  },
  {
   "cell_type": "markdown",
   "id": "a68549d8-7eae-4b68-8f60-493f433b7ce2",
   "metadata": {},
   "source": [
    "At this point, I'm dropping the features that I don't expect to use.  The features I defintely need are subreddit and body.  The date columns are useful for ensuring that the comments I use are from a similar timeframe.  The score column could be interesting to try to include as a weight or additional feature, indicating the types of comments that are most successful on each subreddit.  Author will be interesting during EDA to examine differences in posting behavior, but it will not be used in predictive modeling because matching authors to subreddits is not the goal of this analysis."
   ]
  },
  {
   "cell_type": "code",
   "execution_count": 23,
   "id": "e0e0e869-4a8e-4fc5-827f-2cb53e067c91",
   "metadata": {},
   "outputs": [],
   "source": [
    "science_df = science_full[interesting_cols].copy()\n",
    "future_df = future_full[interesting_cols].copy()"
   ]
  },
  {
   "cell_type": "code",
   "execution_count": 24,
   "id": "998a5ec7-073e-4374-8904-019a92a29a68",
   "metadata": {},
   "outputs": [
    {
     "data": {
      "text/plain": [
       "subreddit    0\n",
       "body         0\n",
       "score        0\n",
       "author       0\n",
       "year         0\n",
       "month        0\n",
       "day          0\n",
       "dtype: int64"
      ]
     },
     "execution_count": 24,
     "metadata": {},
     "output_type": "execute_result"
    }
   ],
   "source": [
    "science_df.isna().sum()"
   ]
  },
  {
   "cell_type": "code",
   "execution_count": 25,
   "id": "d623eea4-f502-41b0-8898-223956b0f8db",
   "metadata": {},
   "outputs": [
    {
     "data": {
      "text/plain": [
       "subreddit    0\n",
       "body         0\n",
       "score        0\n",
       "author       0\n",
       "year         0\n",
       "month        0\n",
       "day          0\n",
       "dtype: int64"
      ]
     },
     "execution_count": 25,
     "metadata": {},
     "output_type": "execute_result"
    }
   ],
   "source": [
    "future_df.isna().sum()"
   ]
  },
  {
   "cell_type": "code",
   "execution_count": 26,
   "id": "884af1b0-dc0f-4e67-87b9-4cfb4234122d",
   "metadata": {},
   "outputs": [
    {
     "data": {
      "text/plain": [
       "subreddit    object\n",
       "body         object\n",
       "score        object\n",
       "author       object\n",
       "year          int64\n",
       "month         int64\n",
       "day           int64\n",
       "dtype: object"
      ]
     },
     "execution_count": 26,
     "metadata": {},
     "output_type": "execute_result"
    }
   ],
   "source": [
    "science_df.dtypes"
   ]
  },
  {
   "cell_type": "code",
   "execution_count": 27,
   "id": "c416d1a1-8b92-46a8-9bec-444d8e44a648",
   "metadata": {},
   "outputs": [
    {
     "data": {
      "text/plain": [
       "subreddit    object\n",
       "body         object\n",
       "score         int64\n",
       "author       object\n",
       "year          int64\n",
       "month         int64\n",
       "day           int64\n",
       "dtype: object"
      ]
     },
     "execution_count": 27,
     "metadata": {},
     "output_type": "execute_result"
    }
   ],
   "source": [
    "future_df.dtypes"
   ]
  },
  {
   "cell_type": "markdown",
   "id": "7f39e227-1f59-444d-890c-03fed8d1698f",
   "metadata": {},
   "source": [
    "Focusing in on these columns of interest, there are no NaN values remaining.  Data types are also as expected, except that score should be numeric and is not for the science dataframe."
   ]
  },
  {
   "cell_type": "code",
   "execution_count": 28,
   "id": "6e21da6a-9356-4799-8001-c24d76f8f0ae",
   "metadata": {},
   "outputs": [
    {
     "data": {
      "text/plain": [
       "[]"
      ]
     },
     "execution_count": 28,
     "metadata": {},
     "output_type": "execute_result"
    }
   ],
   "source": [
    "ct.find_non_numeric(science_df['score'])"
   ]
  },
  {
   "cell_type": "markdown",
   "id": "5eef80b3-232d-459e-9e04-da9eb91c63f6",
   "metadata": {},
   "source": [
    "There don't appear to be any problematic values.  Perhaps the problem was in one of the rows that I already removed."
   ]
  },
  {
   "cell_type": "code",
   "execution_count": 29,
   "id": "b8cc3ebd-a4b7-4672-91cf-41a3ad828a66",
   "metadata": {},
   "outputs": [],
   "source": [
    "def convert_to_int(in_item):\n",
    "    \n",
    "    \"\"\"\n",
    "    Converts all inputs to int.\n",
    "    Warns the user if any input cannot be typecast as int.\n",
    "    \"\"\"\n",
    "    \n",
    "    try:\n",
    "        return int(in_item)\n",
    "    except:\n",
    "        print('Non-numeric value found.')"
   ]
  },
  {
   "cell_type": "code",
   "execution_count": 30,
   "id": "a4eb6882-1f6e-45dd-b1bd-a496ba8f5d28",
   "metadata": {},
   "outputs": [],
   "source": [
    "science_df['score'] = science_df['score'].apply(convert_to_int)"
   ]
  },
  {
   "cell_type": "code",
   "execution_count": 31,
   "id": "00efc8a6-de0c-44cc-9251-31b9f4c89456",
   "metadata": {},
   "outputs": [
    {
     "data": {
      "text/plain": [
       "subreddit    object\n",
       "body         object\n",
       "score         int64\n",
       "author       object\n",
       "year          int64\n",
       "month         int64\n",
       "day           int64\n",
       "dtype: object"
      ]
     },
     "execution_count": 31,
     "metadata": {},
     "output_type": "execute_result"
    }
   ],
   "source": [
    "science_df.dtypes"
   ]
  },
  {
   "cell_type": "markdown",
   "id": "0e5f382b-9412-4604-b013-150b77e5fc3b",
   "metadata": {},
   "source": [
    "The data types are now correct."
   ]
  },
  {
   "cell_type": "markdown",
   "id": "6755e2d2-1230-407f-985c-02052ebaf5e2",
   "metadata": {},
   "source": [
    "### Section 5: Identifying and removing comments that are irrelevant to this analysis ###"
   ]
  },
  {
   "cell_type": "code",
   "execution_count": 32,
   "id": "6f331b24-a2f7-4d95-8574-5b4a34500443",
   "metadata": {},
   "outputs": [
    {
     "data": {
      "text/plain": [
       "[removed]                                                                                                                                                                                                                                                                                                                                                                                                                                           68337\n",
       "[deleted]                                                                                                                                                                                                                                                                                                                                                                                                                                           11340\n",
       "Hello, everyone! Want to help improve this community?\\n    \\nWe're looking for more moderators!\\n     \\n[If you're interested, consider applying!](https://old.reddit.com/r/Futurology/comments/org4rw/rfuturology_is_looking_for_more_moderators/)\\n\\n\\n*I am a bot, and this action was performed automatically. Please [contact the moderators of this subreddit](/message/compose/?to=/r/Futurology) if you have any questions or concerns.*     1077\n",
       "This appears to be a post about Elon Musk or one of his companies. Please keep discussion focused on the actual topic / technology and not praising / condemning Elon. Off topic flamewars will be removed and participants may be banned.\\n\\n\\n*I am a bot, and this action was performed automatically. Please [contact the moderators of this subreddit](/message/compose/?to=/r/Futurology) if you have any questions or concerns.*               285\n",
       "We require that posters seed their post with an initial comment, a Submission Statement, that suggests a line of future-focused discussion for the topic posted. We want this submission statement to elaborate on the topic being posted and suggest how it might be discussed in relation to the future, and ask that it is a minimum of 300 characters. Could you please repost with a Submission Statement, thanks.                               195\n",
       "Don't be sad. Here's a [hug!](https://media.giphy.com/media/3M4NpbLCTxBqU/giphy.gif)                                                                                                                                                                                                                                                                                                                                                                   93\n",
       "Thank you!                                                                                                                                                                                                                                                                                                                                                                                                                                             41\n",
       "Thank you.                                                                                                                                                                                                                                                                                                                                                                                                                                             33\n",
       "Thank you                                                                                                                                                                                                                                                                                                                                                                                                                                              32\n",
       "&gt; Rule 6 - Comments that are a distraction to discussion of futurology may be removed.                                                                                                                                                                                                                                                                                                                                                              32\n",
       "Rule 2                                                                                                                                                                                                                                                                                                                                                                                                                                                 28\n",
       "Removed - Duplicate submission                                                                                                                                                                                                                                                                                                                                                                                                                         24\n",
       "Why not both?                                                                                                                                                                                                                                                                                                                                                                                                                                          23\n",
       "Hope you do well!                                                                                                                                                                                                                                                                                                                                                                                                                                      23\n",
       "Rule 1 - Be respectful to others. \\n\\n-\\tThis includes personal attacks and trolling.                                                                                                                                                                                                                                                                                                                                                                  23\n",
       "&gt; *\"Drone better.\"*\\r\\n\\r\\n~ Ivan Vanko                                                                                                                                                                                                                                                                                                                                                                                                             23\n",
       "&gt; Rule 6 - Comments must be on topic, be of sufficient length, and contribute positively to the discussion.                                                                                                                                                                                                                                                                                                                                         22\n",
       "This is the way.                                                                                                                                                                                                                                                                                                                                                                                                                                       21\n",
       "What do you mean?                                                                                                                                                                                                                                                                                                                                                                                                                                      20\n",
       "https://youtu.be/sGG-A80Tl5g                                                                                                                                                                                                                                                                                                                                                                                                                           20\n",
       "&gt;\\tRule 1 - Be respectful to others. This includes personal attacks and trolling.                                                                                                                                                                                                                                                                                                                                                                   19\n",
       "Hope you have a great day!                                                                                                                                                                                                                                                                                                                                                                                                                             18\n",
       "...waiting for you to flip a rocket and land it back on earth.                                                                                                                                                                                                                                                                                                                                                                                         18\n",
       "This is the way                                                                                                                                                                                                                                                                                                                                                                                                                                        17\n",
       "Your post has been removed for not including a submission statement, meaning a comment on your own post that provides context for the link. If you still wish to share your post you must resubmit your link accompanied by a submission statement of at least 150 characters.\\n\\nThis is a bot. Replies will not receive responses.                                                                                                                   15\n",
       "Actually both exist, just not on the market.                                                                                                                                                                                                                                                                                                                                                                                                           14\n",
       "Well shit, I just got hearing aids and was excited to be cybernetically augmented... But this just takes the cake!\\n\\nGoodbye heart, hello cybernetics cyborg transplant heart!                                                                                                                                                                                                                                                                        14\n",
       "You're Awesome!                                                                                                                                                                                                                                                                                                                                                                                                                                        13\n",
       "You can keep using whatever you have for as long as you want. New stuff will have to be zero-emission by as early as 2024 and for generators as early as 2028.                                                                                                                                                                                                                                                                                         13\n",
       "Fair enough                                                                                                                                                                                                                                                                                                                                                                                                                                            13\n",
       "Stop Buying Anything From Amazon                                                                                                                                                                                                                                                                                                                                                                                                                       13\n",
       "Rule 9                                                                                                                                                                                                                                                                                                                                                                                                                                                 13\n",
       "Good point.                                                                                                                                                                                                                                                                                                                                                                                                                                            11\n",
       "Rule 13                                                                                                                                                                                                                                                                                                                                                                                                                                                11\n",
       "Good point                                                                                                                                                                                                                                                                                                                                                                                                                                             11\n",
       "Name: body, dtype: int64"
      ]
     },
     "execution_count": 32,
     "metadata": {},
     "output_type": "execute_result"
    }
   ],
   "source": [
    "future_df['body'].value_counts()[future_df['body'].value_counts() > 10].sort_values(ascending=False)"
   ]
  },
  {
   "cell_type": "markdown",
   "id": "e0aa2e9d-2661-4af1-ae7e-ac6e095698b6",
   "metadata": {},
   "source": [
    "Checking for repeated comments in the futurology subreddit, I see a few things that should be screened for:\n",
    "\n",
    "1. [removed]\n",
    "2. [deleted]\n",
    "3. \"Removed - Duplicate submission\"\n",
    "4. Any comment that includes the text \"This is a bot. Replies will not receive responses\" or \"I am a bot, and this action was performed automatically\".\n",
    "5. Any post containing \"could you please repost with a submission statement.\"\n",
    "6. Any comment that contains with the word \"Rule\" followed by a number.  This one may get a few legitimate comments, but I checked below.  Only 396 total comments contains this, so a very small number of legitimate comments will be removed."
   ]
  },
  {
   "cell_type": "code",
   "execution_count": 33,
   "id": "869b5019-34ad-4190-8012-17e92ec528f5",
   "metadata": {},
   "outputs": [],
   "source": [
    "drop_cols = list(future_df[future_df['body'] == '[removed]'].index)\n",
    "drop_cols += list(future_df[future_df['body'] == '[deleted]'].index)\n",
    "drop_cols += list(future_df[future_df['body'] == 'Removed - Duplicate submission'].index)\n",
    "drop_cols += [i for i, text in enumerate(future_df['body']) if 'this is a bot. replies will not receive responses' in text.lower()]\n",
    "drop_cols += [i for i, text in enumerate(future_df['body']) if 'i am a bot, and this action was performed automatically' in text.lower()]\n",
    "drop_cols += [i for i, text in enumerate(future_df['body']) if 'could you please repost with a submission statement' in text.lower()]\n",
    "drop_cols += [i for i, text in enumerate(future_df['body']) if re.findall('Rule \\d', text) != []]\n",
    "drop_cols = set(drop_cols)"
   ]
  },
  {
   "cell_type": "markdown",
   "id": "858821b9-2d34-4b22-aa3b-61ab0977bec2",
   "metadata": {},
   "source": [
    "Identifies the index of any row that has a comment that should be removed, according to the list above."
   ]
  },
  {
   "cell_type": "code",
   "execution_count": 34,
   "id": "8d0d1bfc-85a6-4b1b-9954-915b1b85869c",
   "metadata": {
    "tags": []
   },
   "outputs": [],
   "source": [
    "future_df.drop(drop_cols, inplace=True)\n",
    "future_df.reset_index(inplace=True)"
   ]
  },
  {
   "cell_type": "markdown",
   "id": "4c9e17f1-959b-4b7f-aa50-419f73f7e849",
   "metadata": {},
   "source": [
    "Removes the indicated columns from the dataframe."
   ]
  },
  {
   "cell_type": "code",
   "execution_count": 35,
   "id": "be008d38-bd2d-4937-803b-70212aa9ae2c",
   "metadata": {},
   "outputs": [
    {
     "data": {
      "text/plain": [
       "[removed]                                                                                                                                                                                                                                                                                                                                                                                                                                                                                                                                                                                                                                                                                                                                                                                                           170268\n",
       "[deleted]                                                                                                                                                                                                                                                                                                                                                                                                                                                                                                                                                                                                                                                                                                                                                                                                            11006\n",
       "Welcome to r/science! This is a heavily moderated subreddit in order to keep the discussion on science. However, we recognize that many people want to discuss how they feel the research relates to their own personal lives, so to give people a space to do that, **personal anecdotes are now allowed as responses to this comment**. Any anecdotal comments elsewhere in the discussion will continue be removed and our [normal comment rules]( https://www.reddit.com/r/science/wiki/rules#wiki_comment_rules) still apply to other comments.\\n\\n*I am a bot, and this action was performed automatically. Please [contact the moderators of this subreddit](/message/compose/?to=/r/science) if you have any questions or concerns.*                                                                          5703\n",
       "Your submission has been automatically removed because it violates our [headline rules](https://www.reddit.com/r/science/wiki/clickbait). Please consider reposting with a more appropriate title.\\n\\n*I am a bot, and this action was performed automatically. Please [contact the moderators of this subreddit](/message/compose/?to=/r/science) if you have any questions or concerns.*                                                                                                                                                                                                                                                                                                                                                                                                                             459\n",
       "Your post has been removed because it does not reference new peer-reviewed research and is therefore in violation of [Submission Rule #1](https://www.reddit.com/r/science/wiki/rules#wiki_1._directly_link_to_published_peer-reviewed_research_or_media_summary).\\n\\nIf your submission is scientific in nature, consider reposting in our sister subreddit /r/EverythingScience.\\n\\n_If you believe this removal to be unwarranted, or would like further clarification, please don't hesitate to [message the moderators.](https://www.reddit.com/message/compose?to=%2Fr%2Fscience)._                                                                                                                                                                                                                              365\n",
       "Your submission has been automatically removed because it is from a press release rehosting website and is therefore in violation of our [Submission Rules](https://www.reddit.com/r/science/wiki/rules). Please consider reposting and linking directly to the original source or a credible science journalism website. If your submission is original content, please message the moderators for approval.\\n\\n*I am a bot, and this action was performed automatically. Please [contact the moderators of this subreddit](/message/compose/?to=/r/science) if you have any questions or concerns.*                                                                                                                                                                                                                  165\n",
       "Yes                                                                                                                                                                                                                                                                                                                                                                                                                                                                                                                                                                                                                                                                                                                                                                                                                     95\n",
       "Source?                                                                                                                                                                                                                                                                                                                                                                                                                                                                                                                                                                                                                                                                                                                                                                                                                 95\n",
       "Yes.                                                                                                                                                                                                                                                                                                                                                                                                                                                                                                                                                                                                                                                                                                                                                                                                                    89\n",
       "Your post has been removed because the referenced research is more than 6 months old and is therefore in violation of [Submission Rule #4](https://www.reddit.com/r/science/wiki/rules#wiki_4._research_must_be_less_than_6_months_old). All submissions must have been published within the past six months.\\n\\n_If you believe this removal to be unwarranted, or would like further clarification, please don't hesitate to [message the moderators](https://www.reddit.com/message/compose?to=%2Fr%2Fscience)._                                                                                                                                                                                                                                                                                                     84\n",
       "Thank you                                                                                                                                                                                                                                                                                                                                                                                                                                                                                                                                                                                                                                                                                                                                                                                                               50\n",
       "No                                                                                                                                                                                                                                                                                                                                                                                                                                                                                                                                                                                                                                                                                                                                                                                                                      49\n",
       "Why?                                                                                                                                                                                                                                                                                                                                                                                                                                                                                                                                                                                                                                                                                                                                                                                                                    49\n",
       "What?                                                                                                                                                                                                                                                                                                                                                                                                                                                                                                                                                                                                                                                                                                                                                                                                                   48\n",
       "Your post has been removed because it is a repost of an already submitted and popular story and is therefore in violation of [Submission Rule #2d](https://www.reddit.com/r/science/wiki/rules#wiki_d._reposts).\\n\\nIf your submission is scientific in nature and hasn't already been shared, consider reposting in our sister subreddit /r/EverythingScience.\\n\\n_If you believe this removal to be unwarranted, or would like further clarification, please don't hesitate to [message the moderators](https://www.reddit.com/message/compose?to=%2Fr%2Fscience)._                                                                                                                                                                                                                                                   47\n",
       "Thank you!                                                                                                                                                                                                                                                                                                                                                                                                                                                                                                                                                                                                                                                                                                                                                                                                              46\n",
       "Your submission has been automatically removed because it is a summary of a summary and is therefore in violation of our [Submission Rules](https://www.reddit.com/r/science/wiki/rules). Please consider reposting and linking directly to the original source. If your submission is original content, please message the moderators for approval.\\n\\n*I am a bot, and this action was performed automatically. Please [contact the moderators of this subreddit](/message/compose/?to=/r/science) if you have any questions or concerns.*                                                                                                                                                                                                                                                                            45\n",
       "No.                                                                                                                                                                                                                                                                                                                                                                                                                                                                                                                                                                                                                                                                                                                                                                                                                     42\n",
       "Thanks!                                                                                                                                                                                                                                                                                                                                                                                                                                                                                                                                                                                                                                                                                                                                                                                                                 41\n",
       "Thank you.                                                                                                                                                                                                                                                                                                                                                                                                                                                                                                                                                                                                                                                                                                                                                                                                              38\n",
       "Your post has been removed because it has a sensationalized, editorialized, or biased headline and is therefore in violation of [Submission Rule #3](https://www.reddit.com/r/science/wiki/rules#wiki_3._no_editorialized.2C_sensationalized.2C_or_biased_titles). Please read [our headline rules](https://www.reddit.com/r/science/wiki/clickbait) and consider reposting with a more appropriate title.\\n\\n_If you believe this removal to be unwarranted, or would like further clarification, please don't hesitate to [message the moderators](https://www.reddit.com/message/compose?to=%2Fr%2Fscience)._                                                                                                                                                                                                        37\n",
       "Nice!                                                                                                                                                                                                                                                                                                                                                                                                                                                                                                                                                                                                                                                                                                                                                                                                                   36\n",
       "Thanks                                                                                                                                                                                                                                                                                                                                                                                                                                                                                                                                                                                                                                                                                                                                                                                                                  35\n",
       "Exactly                                                                                                                                                                                                                                                                                                                                                                                                                                                                                                                                                                                                                                                                                                                                                                                                                 35\n",
       "Same                                                                                                                                                                                                                                                                                                                                                                                                                                                                                                                                                                                                                                                                                                                                                                                                                    30\n",
       "Exactly.                                                                                                                                                                                                                                                                                                                                                                                                                                                                                                                                                                                                                                                                                                                                                                                                                29\n",
       "Papers on pre-print services such as medrxiv.org are not peer-reviewed and are ineligible per [Submission Rule #1b](https://www.reddit.com/r/science/wiki/rules#wiki_b._preprint_repositories). If the research has been published in a peer-reviewed journal, please link to it in the comments and message the moderators for re-approval.\\n\\n*I am a bot, and this action was performed automatically. Please [contact the moderators of this subreddit](/message/compose/?to=/r/science) if you have any questions or concerns.*                                                                                                                                                                                                                                                                                    28\n",
       "Thank you for sharing this!                                                                                                                                                                                                                                                                                                                                                                                                                                                                                                                                                                                                                                                                                                                                                                                             28\n",
       "Don't be anxious! It's no big deal!                                                                                                                                                                                                                                                                                                                                                                                                                                                                                                                                                                                                                                                                                                                                                                                     25\n",
       "Nice                                                                                                                                                                                                                                                                                                                                                                                                                                                                                                                                                                                                                                                                                                                                                                                                                    25\n",
       "Your post has been temporarily removed due to a lack of citations per [Submission Rule #1](https://www.reddit.com/r/science/wiki/rules#wiki_1._directly_link_to_published_peer-reviewed_research_or_media_summary). Please add a comment with a direct link to the original research, then [message the moderators for re-approval](https://www.reddit.com/message/compose?to=%2Fr%2Fscience).                                                                                                                                                                                                                                                                                                                                                                                                                          24\n",
       "Your post has been removed because it is a review article and is therefore in violation of [Submission Rule #2c](https://www.reddit.com/r/science/wiki/rules#wiki_c._review_articles). Submissions must contain a portion of new research that features analysis of primary data or meta-analysis of previously published primary data to reach an evidence-based conclusion. While valuable resources, most review papers are ineligible for submission because they lack novel findings.\\n\\nIf your submission is scientific in nature, consider reposting in our sister subreddit /r/EverythingScience.\\n\\n_If you believe this removal to be unwarranted, or would like further clarification, please don't hesitate to [message the moderators](https://www.reddit.com/message/compose?to=%2Fr%2Fscience)._        22\n",
       "How so?                                                                                                                                                                                                                                                                                                                                                                                                                                                                                                                                                                                                                                                                                                                                                                                                                 21\n",
       "Hope you have a great day!                                                                                                                                                                                                                                                                                                                                                                                                                                                                                                                                                                                                                                                                                                                                                                                              20\n",
       "You're Awesome!                                                                                                                                                                                                                                                                                                                                                                                                                                                                                                                                                                                                                                                                                                                                                                                                         20\n",
       "Agreed.                                                                                                                                                                                                                                                                                                                                                                                                                                                                                                                                                                                                                                                                                                                                                                                                                 18\n",
       "&gt; apples to oranges\\n\\nBut you can still compare them.                                                                                                                                                                                                                                                                                                                                                                                                                                                                                                                                                                                                                                                                                                                                                               18\n",
       "Why not?                                                                                                                                                                                                                                                                                                                                                                                                                                                                                                                                                                                                                                                                                                                                                                                                                17\n",
       "Yup                                                                                                                                                                                                                                                                                                                                                                                                                                                                                                                                                                                                                                                                                                                                                                                                                     17\n",
       "Yep                                                                                                                                                                                                                                                                                                                                                                                                                                                                                                                                                                                                                                                                                                                                                                                                                     17\n",
       "Nope                                                                                                                                                                                                                                                                                                                                                                                                                                                                                                                                                                                                                                                                                                                                                                                                                    17\n",
       "*in mice\\n\\n ^This ^comment ^was ^posted ^by ^a ^bot ^that ^scanned ^the ^article                                                                                                                                                                                                                                                                                                                                                                                                                                                                                                                                                                                                                                                                                                                                       17\n",
       "Ok                                                                                                                                                                                                                                                                                                                                                                                                                                                                                                                                                                                                                                                                                                                                                                                                                      17\n",
       "Agreed                                                                                                                                                                                                                                                                                                                                                                                                                                                                                                                                                                                                                                                                                                                                                                                                                  15\n",
       "This is the way                                                                                                                                                                                                                                                                                                                                                                                                                                                                                                                                                                                                                                                                                                                                                                                                         15\n",
       "Hope you do well!                                                                                                                                                                                                                                                                                                                                                                                                                                                                                                                                                                                                                                                                                                                                                                                                       14\n",
       "Papers on pre-print services such as biorxiv.org are not peer-reviewed and are ineligible per [Submission Rule #1b](https://www.reddit.com/r/science/wiki/rules#wiki_b._preprint_repositories). If the research has been published in a peer-reviewed journal, please link to it in the comments and message the moderators for re-approval.\\n\\n*I am a bot, and this action was performed automatically. Please [contact the moderators of this subreddit](/message/compose/?to=/r/science) if you have any questions or concerns.*                                                                                                                                                                                                                                                                                    14\n",
       "Fair enough.                                                                                                                                                                                                                                                                                                                                                                                                                                                                                                                                                                                                                                                                                                                                                                                                            14\n",
       "Huh?                                                                                                                                                                                                                                                                                                                                                                                                                                                                                                                                                                                                                                                                                                                                                                                                                    14\n",
       "Well said.                                                                                                                                                                                                                                                                                                                                                                                                                                                                                                                                                                                                                                                                                                                                                                                                              14\n",
       "Obviously you *can* compare them, but the whole point of the idiom is that it's a false analogy. I could compare you to the helpful bots, but that too would be comparing apples-to-oranges. \\n \\n --- \\n \\n ^^SpunkyDred ^^and ^^I ^^are ^^both ^^bots. ^^I ^^am ^^trying ^^to ^^get ^^them ^^banned ^^by ^^pointing ^^out ^^their ^^antagonizing ^^behavior ^^and ^^poor ^^bottiquette. ^^My ^^apparent ^^agreement ^^or ^^disagreement ^^with ^^you ^^isn't ^^personal.                                                                                                                                                                                                                                                                                                                                              14\n",
       "Yikes                                                                                                                                                                                                                                                                                                                                                                                                                                                                                                                                                                                                                                                                                                                                                                                                                   14\n",
       "Good point                                                                                                                                                                                                                                                                                                                                                                                                                                                                                                                                                                                                                                                                                                                                                                                                              13\n",
       "Your post has been removed because the referenced research was published in a journal that fails to meet the minimum quality requirement per [Submission Rule #1a](https://www.reddit.com/r/science/wiki/rules#wiki_a._acceptable_scholarly_journals). All submissions must come from journals with an impact factor greater or equal to 1.5.\\n\\nIf your submission is scientific in nature, consider reposting in our sister subreddit /r/EverythingScience.\\n\\n_If you believe this removal to be unwarranted, or would like further clarification, please don't hesitate to [message the moderators](https://www.reddit.com/message/compose?to=%2Fr%2Fscience)._                                                                                                                                                     13\n",
       "Yep.                                                                                                                                                                                                                                                                                                                                                                                                                                                                                                                                                                                                                                                                                                                                                                                                                    13\n",
       "True                                                                                                                                                                                                                                                                                                                                                                                                                                                                                                                                                                                                                                                                                                                                                                                                                    13\n",
       "And?                                                                                                                                                                                                                                                                                                                                                                                                                                                                                                                                                                                                                                                                                                                                                                                                                    13\n",
       "How?                                                                                                                                                                                                                                                                                                                                                                                                                                                                                                                                                                                                                                                                                                                                                                                                                    13\n",
       "Name: body, dtype: int64"
      ]
     },
     "execution_count": 35,
     "metadata": {},
     "output_type": "execute_result"
    }
   ],
   "source": [
    "science_df['body'].value_counts()[science_df['body'].value_counts() > 12].sort_values(ascending=False)"
   ]
  },
  {
   "cell_type": "markdown",
   "id": "ca41073b-bfc2-4c01-b53d-ab5abf1ba806",
   "metadata": {},
   "source": [
    "Checking for repeated comments in the futurology subreddit, I see a few things that should be screened for:\n",
    "\n",
    "1. [removed]\n",
    "2. [deleted]\n",
    "3. Any comment that includes the text \"I am a bot, and this action was performed automatically\".\n",
    "4. Any comment that includes \"[Submission Rule\"."
   ]
  },
  {
   "cell_type": "code",
   "execution_count": 36,
   "id": "742c93ac-3af8-4547-ba8b-22ffe7606920",
   "metadata": {},
   "outputs": [],
   "source": [
    "drop_cols = list(science_df[science_df['body'] == '[removed]'].index)\n",
    "drop_cols += list(science_df[science_df['body'] == '[deleted]'].index)\n",
    "drop_cols += [i for i, text in enumerate(science_df['body']) if 'i am a bot, and this action was performed automatically' in text.lower()]\n",
    "drop_cols += [i for i, text in enumerate(science_df['body']) if '[submission rule' in text.lower()]\n",
    "drop_cols = set(drop_cols)"
   ]
  },
  {
   "cell_type": "markdown",
   "id": "e9d45341-1db0-48be-87de-ba3656f116be",
   "metadata": {},
   "source": [
    "Identifies the index of any row that has a comment that should be removed, according to the list above."
   ]
  },
  {
   "cell_type": "code",
   "execution_count": 37,
   "id": "fb5ae562-c3c0-4d77-a459-37b97649c960",
   "metadata": {},
   "outputs": [],
   "source": [
    "science_df.drop(drop_cols, inplace=True)\n",
    "science_df.reset_index(inplace=True)"
   ]
  },
  {
   "cell_type": "markdown",
   "id": "6a4d297f-9e6f-48c8-8bd1-9ffd427d5205",
   "metadata": {},
   "source": [
    "Removes the indicated columns from the dataframe."
   ]
  },
  {
   "cell_type": "code",
   "execution_count": 38,
   "id": "1f09fb5d-574f-4b57-9c47-9e41819987f6",
   "metadata": {},
   "outputs": [
    {
     "data": {
      "text/plain": [
       "0.845343917141315"
      ]
     },
     "execution_count": 38,
     "metadata": {},
     "output_type": "execute_result"
    }
   ],
   "source": [
    "len(future_df) / future_startlen"
   ]
  },
  {
   "cell_type": "code",
   "execution_count": 39,
   "id": "1b4a41cd-588b-4ef1-98e9-41cdfa0efc55",
   "metadata": {},
   "outputs": [
    {
     "data": {
      "text/plain": [
       "0.6441519226232602"
      ]
     },
     "execution_count": 39,
     "metadata": {},
     "output_type": "execute_result"
    }
   ],
   "source": [
    "len(science_df) / science_startlen"
   ]
  },
  {
   "cell_type": "markdown",
   "id": "caa18c65-1f40-4593-8cfe-32c09e169aba",
   "metadata": {},
   "source": [
    "After removing the above comments, 84.5% of the Futurology comments remain, and 64.4% of the Science comments remain.  This is not very surprising because the Science subreddit describes itself as heavily moderated."
   ]
  },
  {
   "cell_type": "code",
   "execution_count": 40,
   "id": "f1ca88b4-39d0-47ed-9805-46c6712d0d6e",
   "metadata": {},
   "outputs": [],
   "source": [
    "sub_range = 25_000"
   ]
  },
  {
   "cell_type": "markdown",
   "id": "f2c6ceaa-77c5-46e8-a93a-7b7ae024d9f1",
   "metadata": {},
   "source": [
    "*sub_range* controls the number of comments from each subreddit that will be included in the model.  This is included because the number of comments I have available, even after cleaning, is too large to be handled efficiently by my current hardware and likely overkill for addressing my problem statement.  After some experimentation, I have settled on 25,000 based on the time it takes my computer to process these models."
   ]
  },
  {
   "cell_type": "code",
   "execution_count": 41,
   "id": "015661ca-9f78-4705-87a0-80e3ab101072",
   "metadata": {},
   "outputs": [
    {
     "data": {
      "text/plain": [
       "10    25000\n",
       "Name: month, dtype: int64"
      ]
     },
     "execution_count": 41,
     "metadata": {},
     "output_type": "execute_result"
    }
   ],
   "source": [
    "future_df['month'][:sub_range].value_counts()"
   ]
  },
  {
   "cell_type": "code",
   "execution_count": 42,
   "id": "b33ac14c-ef1a-42fa-83af-3b33f40fcd07",
   "metadata": {},
   "outputs": [
    {
     "data": {
      "text/plain": [
       "14    4080\n",
       "25    2977\n",
       "26    2838\n",
       "18    2244\n",
       "19    2046\n",
       "15    1715\n",
       "23    1508\n",
       "24    1327\n",
       "17    1308\n",
       "22    1296\n",
       "16    1138\n",
       "21    1046\n",
       "20    1026\n",
       "13     451\n",
       "Name: day, dtype: int64"
      ]
     },
     "execution_count": 42,
     "metadata": {},
     "output_type": "execute_result"
    }
   ],
   "source": [
    "future_df['day'][:sub_range].value_counts()"
   ]
  },
  {
   "cell_type": "code",
   "execution_count": 43,
   "id": "897481b2-c534-4530-a847-f34c8072b106",
   "metadata": {},
   "outputs": [
    {
     "data": {
      "text/plain": [
       "10    25000\n",
       "Name: month, dtype: int64"
      ]
     },
     "execution_count": 43,
     "metadata": {},
     "output_type": "execute_result"
    }
   ],
   "source": [
    "science_df['month'][:sub_range].value_counts()"
   ]
  },
  {
   "cell_type": "code",
   "execution_count": 44,
   "id": "c5c1d619-3be0-4e30-a939-db2c87d05d70",
   "metadata": {},
   "outputs": [
    {
     "data": {
      "text/plain": [
       "25    6443\n",
       "21    5096\n",
       "23    3671\n",
       "22    3580\n",
       "24    3299\n",
       "26    2870\n",
       "20      41\n",
       "Name: day, dtype: int64"
      ]
     },
     "execution_count": 44,
     "metadata": {},
     "output_type": "execute_result"
    }
   ],
   "source": [
    "science_df['day'][:sub_range].value_counts()"
   ]
  },
  {
   "cell_type": "markdown",
   "id": "d4d6b7d0-db4c-4145-83e1-2f1901ef6135",
   "metadata": {},
   "source": [
    "The above cells show that all comments used in this analysis are from a narrow time range.  The comments from the Futurology subreddit cover about two weeks, and the comments from the science subreddit cover about one week.  The fact that they come from a similar time frame means that they should be a good representation of how the Science and Futurology discourse differed in that timeframe."
   ]
  },
  {
   "cell_type": "code",
   "execution_count": 45,
   "id": "45fbe787-2953-4f56-9b08-5896d4c595ad",
   "metadata": {},
   "outputs": [],
   "source": [
    "corpus = pd.concat([future_df[:sub_range], science_df[:sub_range]])\n",
    "corpus.reset_index(inplace=True)"
   ]
  },
  {
   "cell_type": "code",
   "execution_count": 46,
   "id": "1a4b8c71-81bf-4cc3-bd48-7cd006648ec3",
   "metadata": {},
   "outputs": [],
   "source": [
    "corpus.to_csv('../data/corpus.csv', index=False)"
   ]
  },
  {
   "cell_type": "markdown",
   "id": "d5b493d2-50c0-4682-b64d-6c2234c67b12",
   "metadata": {},
   "source": [
    "To reduce memory use, only the features and rows that will be used from here on are saved in the corpus.\n",
    "\n",
    "Data has now been cleaned, with Null and unuseful comments removed.  I have selected only the rows and features that I expect to use and included them in the file corpus.csv."
   ]
  }
 ],
 "metadata": {
  "kernelspec": {
   "display_name": "Python 3 (ipykernel)",
   "language": "python",
   "name": "python3"
  },
  "language_info": {
   "codemirror_mode": {
    "name": "ipython",
    "version": 3
   },
   "file_extension": ".py",
   "mimetype": "text/x-python",
   "name": "python",
   "nbconvert_exporter": "python",
   "pygments_lexer": "ipython3",
   "version": "3.8.12"
  }
 },
 "nbformat": 4,
 "nbformat_minor": 5
}
