{
 "cells": [
  {
   "cell_type": "markdown",
   "id": "ddb00d0b-9add-4a12-9024-796a3317f554",
   "metadata": {},
   "source": [
    "# Code Notebook 2: NLP EDA #"
   ]
  },
  {
   "cell_type": "markdown",
   "id": "0c0380a4-25cb-4d95-ab68-788717e26ca0",
   "metadata": {},
   "source": [
    "In this notebook, I will conduct EDA to identify useful characteristics of the data.\n",
    "- Experiment with different values of max_df\n",
    "- Identify stop words, frequent words, and trends in the data."
   ]
  },
  {
   "cell_type": "code",
   "execution_count": 1,
   "id": "167aea53-2fa1-49a6-9433-f130cb3ba421",
   "metadata": {},
   "outputs": [],
   "source": [
    "import numpy as np\n",
    "import pandas as pd\n",
    "import matplotlib.pyplot as plt\n",
    "\n",
    "from nltk.tokenize import RegexpTokenizer\n",
    "from nltk.stem import WordNetLemmatizer\n",
    "from sklearn.feature_extraction.text import CountVectorizer\n",
    "from nltk.sentiment.vader import SentimentIntensityAnalyzer"
   ]
  },
  {
   "cell_type": "code",
   "execution_count": 2,
   "id": "7398e13b-cf9d-4200-b4b4-76048af0cbb5",
   "metadata": {},
   "outputs": [],
   "source": [
    "corpus = pd.read_csv('../data/corpus.csv')"
   ]
  },
  {
   "cell_type": "markdown",
   "id": "9e90ac98-b4ac-42dd-b386-69c259465a9f",
   "metadata": {},
   "source": [
    "### Section 6: Experimenting with max_df to find a good cutoff ###"
   ]
  },
  {
   "cell_type": "code",
   "execution_count": 3,
   "id": "b0ed01c1-aae5-47cc-9c66-ff47fa7e6ec8",
   "metadata": {},
   "outputs": [],
   "source": [
    "def token_lem(in_str):\n",
    "    tokenizer = RegexpTokenizer(r'\\w+')\n",
    "    lemmatizer = WordNetLemmatizer()\n",
    "    tokenized = tokenizer.tokenize(in_str)\n",
    "    lemmatized = [lemmatizer.lemmatize(token.lower()) for token in tokenized if len(token) > 1]\n",
    "    return lemmatized"
   ]
  },
  {
   "cell_type": "markdown",
   "id": "57e777ff-b360-46d5-a48d-eb07f5af0872",
   "metadata": {},
   "source": [
    "The sklearn vectorizers don't lemmatize by default.  The above function will manually apply a simple tokenizer and lemmatizer.  It only returns words with at least 2 characters.  The default vectorizer preprocessing is maintained.\n",
    "\n",
    "I found information about the default tokenizer and modifying it here:\n",
    "\n",
    "https://kavita-ganesan.com/how-to-use-countvectorizer/#.YYPkjS-B2Ak\n",
    "\n",
    "https://stackoverflow.com/questions/23850256/how-can-i-pass-a-preprocessor-to-tfidfvectorizer-sklearn-python"
   ]
  },
  {
   "cell_type": "code",
   "execution_count": 4,
   "id": "e675e338-730c-4f28-a312-c0b4e4157ff1",
   "metadata": {},
   "outputs": [],
   "source": [
    "count_vec = CountVectorizer(tokenizer=token_lem, min_df=5, max_features=10_000)"
   ]
  },
  {
   "cell_type": "code",
   "execution_count": 5,
   "id": "24243eab-4b7e-4a39-9b35-6e0a0e4a44f8",
   "metadata": {},
   "outputs": [],
   "source": [
    "vector = count_vec.fit_transform(corpus['body'])"
   ]
  },
  {
   "cell_type": "code",
   "execution_count": 6,
   "id": "586fac9e-d20b-4ca3-ad39-62db51fa34ce",
   "metadata": {},
   "outputs": [],
   "source": [
    "vec_df = pd.DataFrame(vector.todense(), columns=count_vec.get_feature_names_out())"
   ]
  },
  {
   "cell_type": "code",
   "execution_count": 7,
   "id": "bcdc4f72-2e7b-41cf-85dc-d6d442615ae2",
   "metadata": {},
   "outputs": [],
   "source": [
    "top_100_full = vec_df.sum().sort_values(ascending=False)[:100]"
   ]
  },
  {
   "cell_type": "markdown",
   "id": "d3603b01-8346-4774-b851-d65de5e9a093",
   "metadata": {},
   "source": [
    "top_100_full is 100 most common words in the corpus."
   ]
  },
  {
   "cell_type": "code",
   "execution_count": 8,
   "id": "0fd02cf4-1f48-4366-a899-b40622735536",
   "metadata": {},
   "outputs": [],
   "source": [
    "count_vec = CountVectorizer(tokenizer=token_lem, max_df=0.2, min_df=5, max_features=10_000)"
   ]
  },
  {
   "cell_type": "code",
   "execution_count": 9,
   "id": "7beb1eaa-bce3-4eba-b56e-2b7b765589f7",
   "metadata": {},
   "outputs": [],
   "source": [
    "vector = count_vec.fit_transform(corpus['body'])"
   ]
  },
  {
   "cell_type": "code",
   "execution_count": 10,
   "id": "4ab8989f-e08c-4887-88a1-8097818120cc",
   "metadata": {},
   "outputs": [],
   "source": [
    "vec_df = pd.DataFrame(vector.todense(), columns=count_vec.get_feature_names_out())"
   ]
  },
  {
   "cell_type": "code",
   "execution_count": 11,
   "id": "a0fdf51e-fe84-4c99-8416-5a1caec4f908",
   "metadata": {},
   "outputs": [],
   "source": [
    "top_100 = vec_df.sum().sort_values(ascending=False)[:100]"
   ]
  },
  {
   "cell_type": "markdown",
   "id": "4d5d5829-09ef-49d8-9290-5bf86a35017e",
   "metadata": {},
   "source": [
    "top_100 is the 100 most common words in the corpus that appear in fewer than 20% of documents."
   ]
  },
  {
   "cell_type": "code",
   "execution_count": 12,
   "id": "3b9ab09a-3316-45a3-b571-fb2d958cc3f5",
   "metadata": {},
   "outputs": [
    {
     "data": {
      "text/plain": [
       "['the',\n",
       " 'to',\n",
       " 'and',\n",
       " 'of',\n",
       " 'it',\n",
       " 'that',\n",
       " 'is',\n",
       " 'in',\n",
       " 'you',\n",
       " 'for',\n",
       " 'are',\n",
       " 'be',\n",
       " 'not',\n",
       " 'this',\n",
       " 'but']"
      ]
     },
     "execution_count": 12,
     "metadata": {},
     "output_type": "execute_result"
    }
   ],
   "source": [
    "[word for word in top_100_full.index if word not in top_100.index]"
   ]
  },
  {
   "cell_type": "markdown",
   "id": "801238c1-b5a4-4e79-8cbd-55d642f6b6fe",
   "metadata": {},
   "source": [
    "The list above is all the common words in the corpus that appear in more than 20% of documents.  I used CountVectorizer to get this simple count, although I plan to use TfidfVectorizer for modeling.  Since all of these words are stop words, and .2 already seems like a pretty restrictive max_df, I will not use max_df for modeling, but I will include these as stop words."
   ]
  },
  {
   "cell_type": "markdown",
   "id": "e74bbbce-073c-45b2-974c-6caac975b1de",
   "metadata": {},
   "source": [
    "### Section 7: Top Words and Trends ###"
   ]
  },
  {
   "cell_type": "markdown",
   "id": "348e14e5-7b06-4bc8-bf6e-fa4b20c3a0e9",
   "metadata": {},
   "source": [
    "The stop words list below includes the words noted in the previous section.  It also has words that were added after looking at top words and trends.  See below."
   ]
  },
  {
   "cell_type": "code",
   "execution_count": 13,
   "id": "78b188c7-1609-4d95-97c6-7d58e6d47261",
   "metadata": {
    "tags": []
   },
   "outputs": [],
   "source": [
    "stop_words = ['the', 'to', 'and', 'of', 'it', 'that', 'is', 'in', 'you', 'for', 'are', 'be', 'not', 'this', 'but',\n",
    "             'we', 'they', 'on', 'have', 'with', 'can', 'a', 'if', 'or', 'just', 'people', 'would', 'so', 'like',\n",
    "             'more', 'all', 'there', 'at', 'what', 'from', 'about', 'do', 'an', 'wa', 'by', 'don', 'one', 'get',\n",
    "             'how', 'their', 'no', 'than', 'your', 're', 'ha', 'think', 'out', 'because', 'thing', 'even', 'my',\n",
    "             'will', 'year', 'up', 'make', 'need', 'them', 'when', 'could', 'some', 'only', 'much', 'gt', 'which',\n",
    "             'way', 'also', 'then', 'other', 'now', 'who', 'http', 'being', 'know', 'why', 'good', 'most', 'any',\n",
    "             'still', 'see', 'really', 'should', 'me', 'these', 'he', 'time', 'u', 'our', 'into', 'going', 'go',\n",
    "             'want', 'work', 'use', 'been', 'well', 'those', 'take', 'where', 'point', 'mean', 'very', 'lot',\n",
    "             'problem', 'over', 'here', 'say', 'something', 'right', 'doesn', 'many', 'same', 'isn',\n",
    "             'too', 'were', 've', 'actually', 'every', 'le', 'had', 'used', 'www', 'sure']"
   ]
  },
  {
   "cell_type": "code",
   "execution_count": 14,
   "id": "214158f6-0d41-4b3e-9913-f632ed30a6d4",
   "metadata": {},
   "outputs": [],
   "source": [
    "future_df = corpus[corpus['subreddit'] == 'Futurology'].copy()\n",
    "science_df = corpus[corpus['subreddit'] == 'science'].copy()"
   ]
  },
  {
   "cell_type": "code",
   "execution_count": 15,
   "id": "b0794ac5-87ee-4035-9e8e-a44544eea058",
   "metadata": {},
   "outputs": [],
   "source": [
    "count_vec = CountVectorizer(tokenizer=token_lem, stop_words=stop_words, min_df=5, max_features=10_000)"
   ]
  },
  {
   "cell_type": "code",
   "execution_count": 16,
   "id": "cfd297e9-9dcf-4104-88d1-ae3b8e214b2e",
   "metadata": {},
   "outputs": [],
   "source": [
    "future_vec = count_vec.fit_transform(future_df['body'])\n",
    "future_vec_df = pd.DataFrame(future_vec.todense(), columns=count_vec.get_feature_names_out())"
   ]
  },
  {
   "cell_type": "code",
   "execution_count": 17,
   "id": "93ce0348-02f9-42a1-b5bb-1c9438690016",
   "metadata": {},
   "outputs": [],
   "source": [
    "# Top 50 words in the futurology subreddit after stop word removal.\n",
    "future_top_50 = future_vec_df.sum().sort_values(ascending=False)[:50]"
   ]
  },
  {
   "cell_type": "code",
   "execution_count": 18,
   "id": "36af33e1-810b-4787-8617-c60bcaef0a96",
   "metadata": {},
   "outputs": [],
   "source": [
    "science_vec = count_vec.fit_transform(science_df['body'])\n",
    "science_vec_df = pd.DataFrame(science_vec.todense(), columns=count_vec.get_feature_names_out())"
   ]
  },
  {
   "cell_type": "code",
   "execution_count": 19,
   "id": "b4269af0-630d-4dff-96a9-eee46e190674",
   "metadata": {},
   "outputs": [],
   "source": [
    "# Top 50 words in the science subreddit after stop word removal.\n",
    "science_top_50 = science_vec_df.sum().sort_values(ascending=False)[:50]"
   ]
  },
  {
   "cell_type": "code",
   "execution_count": 20,
   "id": "5d8905f7-7860-4e71-8678-c2b377fd5f85",
   "metadata": {},
   "outputs": [
    {
     "data": {
      "text/plain": [
       "space     2718\n",
       "solar     2363\n",
       "energy    2207\n",
       "power     1933\n",
       "money     1572\n",
       "dtype: int64"
      ]
     },
     "execution_count": 20,
     "metadata": {},
     "output_type": "execute_result"
    }
   ],
   "source": [
    "future_top_50[:5]"
   ]
  },
  {
   "cell_type": "code",
   "execution_count": 21,
   "id": "09f6df26-e5c5-4d99-9373-6561b510a54d",
   "metadata": {},
   "outputs": [
    {
     "data": {
      "text/plain": [
       "study      2267\n",
       "covid      1917\n",
       "vaccine    1877\n",
       "science    1259\n",
       "woman      1217\n",
       "dtype: int64"
      ]
     },
     "execution_count": 21,
     "metadata": {},
     "output_type": "execute_result"
    }
   ],
   "source": [
    "science_top_50[:5]"
   ]
  },
  {
   "cell_type": "markdown",
   "id": "f4813eef-eeda-454b-bc09-e83c626f034d",
   "metadata": {},
   "source": [
    "This analysis reveals the presence of several more words that should be stop words.  The stop words list above reflects the presence of stop words that were added after they appeared among the top words here."
   ]
  },
  {
   "cell_type": "code",
   "execution_count": 22,
   "id": "606b2140-f1d8-48ce-9020-f99f99adad42",
   "metadata": {},
   "outputs": [],
   "source": [
    "# Words that appear in both top 50 lists\n",
    "both_top_50 = [word for word in future_top_50.index if word in science_top_50.index]"
   ]
  },
  {
   "cell_type": "code",
   "execution_count": 23,
   "id": "b5b9ffc8-2857-41ee-87fd-cb67ed8269d9",
   "metadata": {},
   "outputs": [
    {
     "data": {
      "text/plain": [
       "['life',\n",
       " 'human',\n",
       " 'change',\n",
       " 'long',\n",
       " 'better',\n",
       " 'com',\n",
       " 'day',\n",
       " 'doe',\n",
       " 'while',\n",
       " 'first',\n",
       " 'never',\n",
       " 'without',\n",
       " 'anything',\n",
       " 'said']"
      ]
     },
     "execution_count": 23,
     "metadata": {},
     "output_type": "execute_result"
    }
   ],
   "source": [
    "both_top_50"
   ]
  },
  {
   "cell_type": "markdown",
   "id": "5ca08fd2-0ee2-4147-825d-216c5f331cb7",
   "metadata": {},
   "source": [
    "After removing several stop words, I've reached a point where most of these look like they could make a substantive difference, epecially in bigrams."
   ]
  },
  {
   "cell_type": "code",
   "execution_count": 24,
   "id": "9f9d29ee-8a1d-4cde-b08e-34e06811e326",
   "metadata": {},
   "outputs": [
    {
     "data": {
      "image/png": "[encoded data removed]",
      "text/plain": [
       "<Figure size 720x576 with 1 Axes>"
      ]
     },
     "metadata": {
      "needs_background": "light"
     },
     "output_type": "display_data"
    }
   ],
   "source": [
    "plt.figure(figsize=(10,8))\n",
    "plt.barh(np.linspace(1,20,20), future_top_50[19::-1])\n",
    "plt.yticks(np.linspace(1,20,20), future_top_50.index[19::-1])\n",
    "plt.title('Top 20 Words in Futurology Subreddit Comments (stop words removed)', fontsize='x-large')\n",
    "plt.xlabel('Number of occurrences in 25,000 comments', fontsize='x-large');"
   ]
  },
  {
   "cell_type": "code",
   "execution_count": 25,
   "id": "df136888-7566-4c03-99bb-9853f2bd85ad",
   "metadata": {},
   "outputs": [
    {
     "data": {
      "image/png": "[encoded data removed]",
      "text/plain": [
       "<Figure size 720x576 with 1 Axes>"
      ]
     },
     "metadata": {
      "needs_background": "light"
     },
     "output_type": "display_data"
    }
   ],
   "source": [
    "plt.figure(figsize=(10,8))\n",
    "plt.barh(np.linspace(1,20,20), science_top_50[19::-1])\n",
    "plt.yticks(np.linspace(1,20,20), science_top_50.index[19::-1])\n",
    "plt.title('Top 20 Words in Science Subreddit Comments (stop words removed)', fontsize='x-large')\n",
    "plt.xlabel('Number of occurrences in 25,000 comments', fontsize='x-large');"
   ]
  },
  {
   "cell_type": "code",
   "execution_count": 26,
   "id": "eca145a1-b309-44a8-90f2-27e4dedbe799",
   "metadata": {},
   "outputs": [],
   "source": [
    "# plt.figure(figsize=(15,8))\n",
    "# plot1 = plt.barh(np.linspace(1,20,20), future_top_50[19::-1])\n",
    "# plt.bar_label(plot1, future_top_50.index[19::-1], fontsize='x-large')\n",
    "# plot2 = plt.barh(np.linspace(1,20,20), -science_top_50[19::-1])\n",
    "# plt.bar_label(plot2, science_top_50.index[19::-1], fontsize='x-large')\n",
    "# plt.yticks(ticks=[])\n",
    "# plt.title('Top 20 Words in Science and Futurology Subreddits (stop words removed)', fontsize='x-large')\n",
    "# plt.xlabel('Number of occurrences in 25,000 comments', fontsize='x-large')\n",
    "# plt.legend([plot1, plot2], ['Futurology', 'Science'], fontsize='x-large');\n",
    "\n",
    "# This link helped me get started on making the above graph:\n",
    "\n",
    "# https://www.geeksforgeeks.org/plotting-back-to-back-bar-charts-matplotlib/"
   ]
  },
  {
   "cell_type": "markdown",
   "id": "faf42901-95af-4d0b-b46c-809f4d3b4452",
   "metadata": {},
   "source": [
    "The above charts show the top twenty words in 25,000 comments for each subreddit after stop word removal.  It could be argued that words like \"said\" and \"his\" are stop words, but they were not as frequent in both subreddits as the stop words I chose.  Also, they could be substantive (\"said\" may be more common in science because it is more common to reference prior information, for example).\n",
    "\n",
    "Themes suggested by these charts:\n",
    "- The science subreddit, being focused on current research, tends to focus on current issues much more than futurology, which has more words suggestive of future hopes.\n",
    "- The science subreddit comments are more likely to reference other sources (suggested by the words \"study,\" \"article\", \"said,\" and \"medium\" - likely a reference to medium.com)\n",
    "- Futurology top words are much more likely to be topical (\"space,\" \"solar,\" \"energy,\" etc.).  Aside from \"covid\" and \"vaccine,\" the top words in science are about referencing sources or difficult to interpret.\n",
    "- The top words in futurology comments are generally more prominent.  This could suggest less variety of topics in futurology, or it could indicate that futurology comments tend to be longer (which will be confirmed in the next graph.)"
   ]
  },
  {
   "cell_type": "code",
   "execution_count": 27,
   "id": "a44c87ac-26cc-4a98-a0e2-cabd246143fb",
   "metadata": {},
   "outputs": [],
   "source": [
    "future_tokens = future_df['body'].apply(token_lem)\n",
    "future_word_count = [len(comment) for comment in future_tokens]\n",
    "science_tokens = science_df['body'].apply(token_lem)\n",
    "science_word_count = [len(comment) for comment in science_tokens]"
   ]
  },
  {
   "cell_type": "code",
   "execution_count": 28,
   "id": "652350c2-c087-43fd-a57d-26fdfbeeae36",
   "metadata": {},
   "outputs": [
    {
     "data": {
      "image/png": "[encoded data removed]",
      "text/plain": [
       "<Figure size 1080x360 with 1 Axes>"
      ]
     },
     "metadata": {
      "needs_background": "light"
     },
     "output_type": "display_data"
    }
   ],
   "source": [
    "plt.figure(figsize=(15,5))\n",
    "plot1 = plt.hist(future_word_count, bins=50, range=(0,400))\n",
    "plot2 = plt.hist(science_word_count, alpha=0.5, bins=50, range=(0,400))\n",
    "plt.title('Histogram of Comment Word Counts for Futurology and Science Subreddits', fontsize='x-large')\n",
    "plt.xlabel('Comment Word Count', fontsize='x-large')\n",
    "plt.legend(['Futurology', 'Science'], fontsize='x-large');"
   ]
  },
  {
   "cell_type": "code",
   "execution_count": 29,
   "id": "b2b4bfdf-b566-4cd2-a44f-04ec3d48126d",
   "metadata": {},
   "outputs": [
    {
     "name": "stdout",
     "output_type": "stream",
     "text": [
      "Futurology mean comment word count: 41.28328\n",
      "Science mean comment word count: 39.2692\n"
     ]
    }
   ],
   "source": [
    "print(f'Futurology mean comment word count: {np.mean(future_word_count)}')\n",
    "print(f'Science mean comment word count: {np.mean(science_word_count)}')"
   ]
  },
  {
   "cell_type": "markdown",
   "id": "40545e41-9631-43c1-8679-dcb7009ff5ac",
   "metadata": {},
   "source": [
    "The above graph shows histograms for the distribution of word counts for comments on the science and futurology subreddits.  The tail of the histogram continues beyond the edge of this graph, but remains very small.\n",
    "\n",
    "Although futurology comments are longer on average, the difference is quite small and mostly accounted for by the science subreddit having significantly more posts of ten words or less."
   ]
  },
  {
   "cell_type": "code",
   "execution_count": 30,
   "id": "5461c5e9-454d-41f7-a90a-150413e048b7",
   "metadata": {},
   "outputs": [
    {
     "data": {
      "image/png": "[encoded data removed]",
      "text/plain": [
       "<Figure size 1080x360 with 1 Axes>"
      ]
     },
     "metadata": {
      "needs_background": "light"
     },
     "output_type": "display_data"
    }
   ],
   "source": [
    "plt.figure(figsize=(15,5))\n",
    "plot1 = plt.hist(future_df['author'].value_counts(), bins=50, range=(0,20))\n",
    "plot2 = plt.hist(science_df['author'].value_counts(), alpha=0.5, bins=50, range=(0,20))\n",
    "plt.title('Histogram of Number of Authors Posting Different Numbers of Comments for Futurology and Science Subreddits', fontsize='x-large')\n",
    "plt.xlabel('Number of Comments Posted', fontsize='x-large')\n",
    "plt.xticks(np.linspace(1,20,20))\n",
    "plt.legend(['Futurology', 'Science'], fontsize='x-large');"
   ]
  },
  {
   "cell_type": "code",
   "execution_count": 31,
   "id": "91a3b86d-8520-4b1c-9be7-89bbece34e01",
   "metadata": {},
   "outputs": [
    {
     "name": "stdout",
     "output_type": "stream",
     "text": [
      "Futurology unique comment authors: 12521\n",
      "Science unique comment authors: 13806\n"
     ]
    }
   ],
   "source": [
    "print(f\"Futurology unique comment authors: {len(future_df['author'].unique())}\")\n",
    "print(f\"Science unique comment authors: {len(science_df['author'].unique())}\")"
   ]
  },
  {
   "cell_type": "code",
   "execution_count": 32,
   "id": "7f09bf1a-0a73-410b-adcd-d561d9e79297",
   "metadata": {},
   "outputs": [
    {
     "data": {
      "text/plain": [
       "4252"
      ]
     },
     "execution_count": 32,
     "metadata": {},
     "output_type": "execute_result"
    }
   ],
   "source": [
    "future_df['comment_count'] = 1\n",
    "author_num_comments = future_df['comment_count'].groupby(future_df['author']).sum()\n",
    "author_num_comments[author_num_comments>10].sum()"
   ]
  },
  {
   "cell_type": "code",
   "execution_count": 33,
   "id": "988810f8-56af-40d9-a4b4-a83014630570",
   "metadata": {},
   "outputs": [
    {
     "data": {
      "text/plain": [
       "5804"
      ]
     },
     "execution_count": 33,
     "metadata": {},
     "output_type": "execute_result"
    }
   ],
   "source": [
    "science_df['comment_count'] = 1\n",
    "author_num_comments = science_df['comment_count'].groupby(science_df['author']).sum()\n",
    "author_num_comments[author_num_comments>5].sum()"
   ]
  },
  {
   "cell_type": "code",
   "execution_count": 34,
   "id": "4cea7a8e-c340-4a2b-a124-7eaa70828bca",
   "metadata": {},
   "outputs": [
    {
     "data": {
      "text/plain": [
       "0.17008"
      ]
     },
     "execution_count": 34,
     "metadata": {},
     "output_type": "execute_result"
    }
   ],
   "source": [
    "4252/25000"
   ]
  },
  {
   "cell_type": "code",
   "execution_count": 35,
   "id": "d6ada993-26b6-4fef-8f2b-9611248e676e",
   "metadata": {},
   "outputs": [
    {
     "data": {
      "text/plain": [
       "0.23216"
      ]
     },
     "execution_count": 35,
     "metadata": {},
     "output_type": "execute_result"
    }
   ],
   "source": [
    "5804/25000"
   ]
  },
  {
   "cell_type": "markdown",
   "id": "b353b53c-a9f5-4091-a00d-4adec3b0578e",
   "metadata": {},
   "source": [
    "The above histogram shows the distribution of number of authors posting different numbers of comments.  Recall that the Futurology comments cover a 2-week period and the Science comments cover a 1-week period.\n",
    "\n",
    "We see that most authors made only a very small number of comments.  The number of unique authors is very similar for each subreddit.  Also, considering an author who made more than 5 comments for Science and an author who made more than 10 comments for Futurology as a frequent commenter (because of the timeframe difference), I see that about 17% of Futurology comments and 24% of Science comments were made by frequent commenters.  It appears that the typical author in the Science subreddit posts more often."
   ]
  },
  {
   "cell_type": "code",
   "execution_count": 36,
   "id": "5d0c51a7-85e3-4ebf-81ce-7ecc059f7d79",
   "metadata": {},
   "outputs": [
    {
     "data": {
      "image/png": "[encoded data removed]",
      "text/plain": [
       "<Figure size 1080x360 with 1 Axes>"
      ]
     },
     "metadata": {
      "needs_background": "light"
     },
     "output_type": "display_data"
    }
   ],
   "source": [
    "plt.figure(figsize=(15,5))\n",
    "plot1 = plt.hist(future_df['score'], bins=50)\n",
    "plot2 = plt.hist(science_df['score'], alpha=0.5, bins=50)\n",
    "plt.title('Histogram of Comment Scores for Futurology and Science Subreddits', fontsize='x-large')\n",
    "plt.xlabel('Score', fontsize='x-large')\n",
    "plt.legend(['Futurology', 'Science'], fontsize='x-large');"
   ]
  },
  {
   "cell_type": "code",
   "execution_count": 37,
   "id": "8b16c76a-9780-4dfe-ad01-f36dff9b59ad",
   "metadata": {},
   "outputs": [
    {
     "data": {
      "text/plain": [
       "6842     4867\n",
       "15322    2948\n",
       "18884    2385\n",
       "23830    5672\n",
       "24042    7866\n",
       "Name: score, dtype: int64"
      ]
     },
     "execution_count": 37,
     "metadata": {},
     "output_type": "execute_result"
    }
   ],
   "source": [
    "future_df['score'][future_df['score'] > 2000]"
   ]
  },
  {
   "cell_type": "code",
   "execution_count": 38,
   "id": "ed953fb5-fabd-42ac-a2e1-76b43237b8d7",
   "metadata": {},
   "outputs": [
    {
     "data": {
      "text/plain": [
       "30082     3340\n",
       "30175     3514\n",
       "30809     2358\n",
       "33398     5805\n",
       "34267     3157\n",
       "34347     4556\n",
       "34452    15384\n",
       "35915     2788\n",
       "37308     5365\n",
       "39690     4268\n",
       "40971     3634\n",
       "48491     3099\n",
       "Name: score, dtype: int64"
      ]
     },
     "execution_count": 38,
     "metadata": {},
     "output_type": "execute_result"
    }
   ],
   "source": [
    "science_df['score'][science_df['score'] > 2000]"
   ]
  },
  {
   "cell_type": "markdown",
   "id": "cbc237f1-889c-44f1-8b0f-1208c89a37d5",
   "metadata": {},
   "source": [
    "Both subreddits have a small number of posts with scores that are very large outliers.  Let's focus on the distribution of scores for posts that are not such large outliers. Iteratively zooming in until I am focused on the main peak of scores yields the following histogram:"
   ]
  },
  {
   "cell_type": "code",
   "execution_count": 39,
   "id": "3d09efb0-1137-4abb-b1a7-c8a721ad1da4",
   "metadata": {},
   "outputs": [
    {
     "data": {
      "image/png": "[encoded data removed]",
      "text/plain": [
       "<Figure size 1080x360 with 1 Axes>"
      ]
     },
     "metadata": {
      "needs_background": "light"
     },
     "output_type": "display_data"
    }
   ],
   "source": [
    "plt.figure(figsize=(15,5))\n",
    "plot1 = plt.hist(future_df['score'], bins=50, range=(-10,20))\n",
    "plot2 = plt.hist(science_df['score'], alpha=0.5, bins=50, range=(-10,20))\n",
    "plt.title('Zoomed in Histogram of Comment Scores for Futurology and Science Subreddits', fontsize='x-large')\n",
    "plt.xlabel('Score', fontsize='x-large')\n",
    "plt.xticks(np.linspace(-10, 20, 31))\n",
    "plt.legend(['Futurology', 'Science'], fontsize='x-large');"
   ]
  },
  {
   "cell_type": "code",
   "execution_count": 40,
   "id": "2ba1c3ba-2340-4e2e-ad9d-946592470ab0",
   "metadata": {},
   "outputs": [
    {
     "data": {
      "text/plain": [
       "23776"
      ]
     },
     "execution_count": 40,
     "metadata": {},
     "output_type": "execute_result"
    }
   ],
   "source": [
    "# Number of comments (out of 25,000) with scores between -10 and 20.\n",
    "len(future_df[(future_df['score'] > -10) & (future_df['score'] < 20)])"
   ]
  },
  {
   "cell_type": "code",
   "execution_count": 41,
   "id": "cf2e36d3-6eeb-430d-af02-8ab535f66394",
   "metadata": {},
   "outputs": [
    {
     "data": {
      "text/plain": [
       "22706"
      ]
     },
     "execution_count": 41,
     "metadata": {},
     "output_type": "execute_result"
    }
   ],
   "source": [
    "# Number of comments (out of 25,000) with scores between -10 and 20.\n",
    "len(science_df[(science_df['score'] > -10) & (science_df['score'] < 20)])"
   ]
  },
  {
   "cell_type": "markdown",
   "id": "187781b4-cea7-4ead-a865-12afa6147be6",
   "metadata": {},
   "source": [
    "Score does not look like a particularly useful feature for prediction.  A very large majority of comments have low scores between -10 and 20, with a large peak at 0.  There are also large outliers that would likely need to be removed to avoid badly skewing the weights of the words in them."
   ]
  },
  {
   "cell_type": "code",
   "execution_count": 42,
   "id": "514a6559-d47f-423e-9b86-3d1d080de85f",
   "metadata": {},
   "outputs": [],
   "source": [
    "sia = SentimentIntensityAnalyzer()\n",
    "future_polarity = [sia.polarity_scores(comment)['compound'] for comment in future_df['body']]\n",
    "science_polarity = [sia.polarity_scores(comment)['compound'] for comment in science_df['body']]"
   ]
  },
  {
   "cell_type": "code",
   "execution_count": 43,
   "id": "54bbafff-ae91-4f3f-b626-9043dbb060df",
   "metadata": {},
   "outputs": [
    {
     "data": {
      "image/png": "[encoded data removed]",
      "text/plain": [
       "<Figure size 1080x360 with 1 Axes>"
      ]
     },
     "metadata": {
      "needs_background": "light"
     },
     "output_type": "display_data"
    }
   ],
   "source": [
    "plt.figure(figsize=(15,5))\n",
    "plot1 = plt.hist(future_polarity, bins=50)\n",
    "plot2 = plt.hist(science_polarity, alpha=0.5, bins=50)\n",
    "plt.title('Histogram of Comment Polarity for Futurology and Science Subreddits', fontsize='x-large')\n",
    "plt.xlabel('Comment Polarity', fontsize='x-large')\n",
    "plt.legend(['Futurology', 'Science'], fontsize='x-large');"
   ]
  },
  {
   "cell_type": "markdown",
   "id": "8704b7fc-c379-4dbf-a72b-be465b2bd930",
   "metadata": {},
   "source": [
    "Based on the results of the sentiment intensity analyzer, there is little difference in the distribution of comment polarity in the Futurology and Science subreddits.  There is some difference at high and low polarities, suggesting a bit more optimism on the Futurology subreddit.  Both have plenty of posts across the full range, and I think it unlikely that this feature will be a useful addition to a predictive model."
   ]
  },
  {
   "cell_type": "markdown",
   "id": "4a3114ed-87a2-4ecc-99d7-b3f6533ae65b",
   "metadata": {},
   "source": [
    "Overall, EDA does suggest that it will be possible for a model to have some success differentiating between Science and Futurology posts.  The focus will be on NLP, as differences in top words suggested distinguishable trends.  Other features considered above include post length, comment scores, and sentiment.  There is some potential in each of these, but it is quite small. I will only add them if time allows.  Although Futurology does have more authors that post frequently, this is not a good parameter for modeling, as we may end up simply mapping frequent authors to the subreddit they comment on.  That is not the purpose of this analysis."
   ]
  }
 ],
 "metadata": {
  "kernelspec": {
   "display_name": "Python 3 (ipykernel)",
   "language": "python",
   "name": "python3"
  },
  "language_info": {
   "codemirror_mode": {
    "name": "ipython",
    "version": 3
   },
   "file_extension": ".py",
   "mimetype": "text/x-python",
   "name": "python",
   "nbconvert_exporter": "python",
   "pygments_lexer": "ipython3",
   "version": "3.8.12"
  }
 },
 "nbformat": 4,
 "nbformat_minor": 5
}
