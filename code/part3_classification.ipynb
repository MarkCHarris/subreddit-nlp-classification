{
 "cells": [
  {
   "cell_type": "markdown",
   "id": "9a4f2f6b-7aba-47cb-92df-a341e1fd74b2",
   "metadata": {},
   "source": [
    "# Code Notebook 3: Classification #"
   ]
  },
  {
   "cell_type": "markdown",
   "id": "ddb3bd1d-9f31-460a-802d-2ca407609b6c",
   "metadata": {},
   "source": [
    "In this notebook, I use Random Forest and Logistic Regression models to look for erroneous words the models consider important.  Such words could make good stop words.  I then evaluate several models and provide my conclusions and Recommendations."
   ]
  },
  {
   "cell_type": "code",
   "execution_count": 1,
   "id": "62595833-dab4-4845-9c99-a04d5ef8f8d4",
   "metadata": {},
   "outputs": [],
   "source": [
    "import pandas as pd\n",
    "\n",
    "import pickle\n",
    "\n",
    "import metrictools as mt\n",
    "\n",
    "from sklearn.model_selection import train_test_split, GridSearchCV\n",
    "from sklearn.pipeline import Pipeline\n",
    "\n",
    "from nltk.tokenize import RegexpTokenizer\n",
    "from nltk.stem import WordNetLemmatizer\n",
    "from sklearn.feature_extraction.text import TfidfVectorizer\n",
    "\n",
    "from sklearn.ensemble import RandomForestClassifier\n",
    "from sklearn.linear_model import LogisticRegression"
   ]
  },
  {
   "cell_type": "code",
   "execution_count": 2,
   "id": "6eb0440a-8009-4ec8-abe3-774b929694e8",
   "metadata": {},
   "outputs": [],
   "source": [
    "corpus = pd.read_csv('../data/corpus.csv')"
   ]
  },
  {
   "cell_type": "code",
   "execution_count": 3,
   "id": "b3d2239c-9aef-4a4c-91e7-f39ddddb2a31",
   "metadata": {},
   "outputs": [],
   "source": [
    "X = corpus['body']\n",
    "y = corpus['subreddit'].map({'Futurology':0, 'science':1})\n",
    "\n",
    "X_train, X_test, y_train, y_test = train_test_split(X, y, stratify=y, train_size=0.7, random_state=4835)"
   ]
  },
  {
   "cell_type": "markdown",
   "id": "37a6a721-2ba7-46c7-b13b-dafb5dab3d5f",
   "metadata": {},
   "source": [
    "### Section 8: Stop Word Selection With Random Forests and Logistic Regression ###"
   ]
  },
  {
   "cell_type": "markdown",
   "id": "97559181-3dc3-4c1e-a6a3-fdf4844bf63f",
   "metadata": {},
   "source": [
    "In this section, I will be running random forest and logistic regression models and identifying words that receive a lot of weight by the model but are likely not very generalizable to new data.  I will add these to the existing stop words list I have from my NLP EDA in Part 2."
   ]
  },
  {
   "cell_type": "code",
   "execution_count": 4,
   "id": "9c9fabfe-9896-4aeb-bdb8-394f40646f62",
   "metadata": {},
   "outputs": [],
   "source": [
    "def token_lem(in_str):\n",
    "    tokenizer = RegexpTokenizer(r'\\w+')\n",
    "    lemmatizer = WordNetLemmatizer()\n",
    "    tokenized = tokenizer.tokenize(in_str)\n",
    "    lemmatized = [lemmatizer.lemmatize(token.lower()) for token in tokenized if len(token) > 1]\n",
    "    return lemmatized"
   ]
  },
  {
   "cell_type": "code",
   "execution_count": 5,
   "id": "60ed7c92-4d23-42f4-9395-6a36bf62dc34",
   "metadata": {
    "tags": []
   },
   "outputs": [],
   "source": [
    "stop_words = ['the', 'to', 'and', 'of', 'it', 'that', 'is', 'in', 'you', 'for', 'are', 'be', 'not', 'this', 'but',\n",
    "             'we', 'they', 'on', 'have', 'with', 'can', 'a', 'if', 'or', 'just', 'people', 'would', 'so', 'like',\n",
    "             'more', 'all', 'there', 'at', 'what', 'from', 'about', 'do', 'an', 'wa', 'by', 'don', 'one', 'get',\n",
    "             'how', 'their', 'no', 'than', 'your', 're', 'ha', 'think', 'out', 'because', 'thing', 'even', 'my',\n",
    "             'will', 'year', 'up', 'make', 'need', 'them', 'when', 'could', 'some', 'only', 'much', 'gt', 'which',\n",
    "             'way', 'also', 'then', 'other', 'now', 'who', 'http', 'being', 'know', 'why', 'good', 'most', 'any',\n",
    "             'still', 'see', 'really', 'should', 'me', 'these', 'he', 'time', 'u', 'our', 'into', 'going', 'go',\n",
    "             'want', 'work', 'use', 'been', 'well', 'those', 'take', 'where', 'point', 'mean', 'very', 'lot',\n",
    "             'problem', 'over', 'here', 'say', 'something', 'right', 'doesn', 'many', 'same', 'isn',\n",
    "             'too', 'were', 've', 'actually', 'every', 'le', 'had', 'used', 'www', 'sure']"
   ]
  },
  {
   "cell_type": "code",
   "execution_count": 6,
   "id": "827f3910-761a-4851-bdf9-e784a9853a43",
   "metadata": {},
   "outputs": [],
   "source": [
    "pipe = Pipeline([\n",
    "    ('tf_vec', TfidfVectorizer(tokenizer=token_lem, min_df=5, stop_words=stop_words)),\n",
    "    ('forest', RandomForestClassifier(n_jobs=-1))\n",
    "])"
   ]
  },
  {
   "cell_type": "code",
   "execution_count": 7,
   "id": "da326091-d916-4138-997b-ffe81ee67ad2",
   "metadata": {},
   "outputs": [],
   "source": [
    "pipe_params = {\n",
    "    'tf_vec__ngram_range' : [(1,1), (1,2)],\n",
    "    'tf_vec__max_features' : [10_000],\n",
    "    'forest__ccp_alpha' : [0.0],\n",
    "    'forest__max_depth' : [10],\n",
    "    'forest__n_estimators' : [400]\n",
    "}"
   ]
  },
  {
   "cell_type": "markdown",
   "id": "12a1f10f-a7cb-4177-849d-f479161996b3",
   "metadata": {},
   "source": [
    "Through experimentation, I found that inclusion of bigrams tends to make very little difference in predictive power for classifying these subreddits.  Also through experimentation, I settled on the above values of ccp_alpha, max_depth, and n_estimators as reasonable choices for this process of identifying stop words.  They result in minimal overfitting and some of the best scores random forests have produced in this analysis.\n",
    "\n",
    "Random_state was not set here to avoid fitting my stop words to a specific random state."
   ]
  },
  {
   "cell_type": "code",
   "execution_count": 8,
   "id": "aaeb55bd-f1fb-421a-b6d7-2675c59a87c8",
   "metadata": {},
   "outputs": [],
   "source": [
    "gs = GridSearchCV(pipe, pipe_params, scoring='f1', cv=5)"
   ]
  },
  {
   "cell_type": "code",
   "execution_count": 9,
   "id": "9ee4819c-b95f-45eb-83d4-7219df9834b1",
   "metadata": {},
   "outputs": [],
   "source": [
    "gs.fit(X_train, y_train);"
   ]
  },
  {
   "cell_type": "code",
   "execution_count": 10,
   "id": "f805bee7-6b54-4e5b-a8e0-f311c2510bb6",
   "metadata": {},
   "outputs": [
    {
     "data": {
      "text/plain": [
       "{'forest__ccp_alpha': 0.0,\n",
       " 'forest__max_depth': 10,\n",
       " 'forest__n_estimators': 400,\n",
       " 'tf_vec__max_features': 10000,\n",
       " 'tf_vec__ngram_range': (1, 1)}"
      ]
     },
     "execution_count": 10,
     "metadata": {},
     "output_type": "execute_result"
    }
   ],
   "source": [
    "gs.best_params_"
   ]
  },
  {
   "cell_type": "code",
   "execution_count": 11,
   "id": "34bba2d1-b95b-4913-9cea-048a15783d20",
   "metadata": {},
   "outputs": [
    {
     "data": {
      "text/html": [
       "<div>\n",
       "<style scoped>\n",
       "    .dataframe tbody tr th:only-of-type {\n",
       "        vertical-align: middle;\n",
       "    }\n",
       "\n",
       "    .dataframe tbody tr th {\n",
       "        vertical-align: top;\n",
       "    }\n",
       "\n",
       "    .dataframe thead th {\n",
       "        text-align: right;\n",
       "    }\n",
       "</style>\n",
       "<table border=\"1\" class=\"dataframe\">\n",
       "  <thead>\n",
       "    <tr style=\"text-align: right;\">\n",
       "      <th></th>\n",
       "      <th>mean_fit_time</th>\n",
       "      <th>std_fit_time</th>\n",
       "      <th>mean_score_time</th>\n",
       "      <th>std_score_time</th>\n",
       "      <th>param_forest__ccp_alpha</th>\n",
       "      <th>param_forest__max_depth</th>\n",
       "      <th>param_forest__n_estimators</th>\n",
       "      <th>param_tf_vec__max_features</th>\n",
       "      <th>param_tf_vec__ngram_range</th>\n",
       "      <th>params</th>\n",
       "      <th>split0_test_score</th>\n",
       "      <th>split1_test_score</th>\n",
       "      <th>split2_test_score</th>\n",
       "      <th>split3_test_score</th>\n",
       "      <th>split4_test_score</th>\n",
       "      <th>mean_test_score</th>\n",
       "      <th>std_test_score</th>\n",
       "      <th>rank_test_score</th>\n",
       "    </tr>\n",
       "  </thead>\n",
       "  <tbody>\n",
       "    <tr>\n",
       "      <th>0</th>\n",
       "      <td>4.684752</td>\n",
       "      <td>0.746359</td>\n",
       "      <td>1.004829</td>\n",
       "      <td>0.030679</td>\n",
       "      <td>0.0</td>\n",
       "      <td>10</td>\n",
       "      <td>400</td>\n",
       "      <td>10000</td>\n",
       "      <td>(1, 1)</td>\n",
       "      <td>{'forest__ccp_alpha': 0.0, 'forest__max_depth'...</td>\n",
       "      <td>0.789796</td>\n",
       "      <td>0.785393</td>\n",
       "      <td>0.791010</td>\n",
       "      <td>0.789198</td>\n",
       "      <td>0.796888</td>\n",
       "      <td>0.790457</td>\n",
       "      <td>0.003724</td>\n",
       "      <td>1</td>\n",
       "    </tr>\n",
       "    <tr>\n",
       "      <th>1</th>\n",
       "      <td>5.512799</td>\n",
       "      <td>0.042233</td>\n",
       "      <td>1.076014</td>\n",
       "      <td>0.013122</td>\n",
       "      <td>0.0</td>\n",
       "      <td>10</td>\n",
       "      <td>400</td>\n",
       "      <td>10000</td>\n",
       "      <td>(1, 2)</td>\n",
       "      <td>{'forest__ccp_alpha': 0.0, 'forest__max_depth'...</td>\n",
       "      <td>0.790362</td>\n",
       "      <td>0.786665</td>\n",
       "      <td>0.787739</td>\n",
       "      <td>0.790992</td>\n",
       "      <td>0.793570</td>\n",
       "      <td>0.789866</td>\n",
       "      <td>0.002450</td>\n",
       "      <td>2</td>\n",
       "    </tr>\n",
       "  </tbody>\n",
       "</table>\n",
       "</div>"
      ],
      "text/plain": [
       "   mean_fit_time  std_fit_time  mean_score_time  std_score_time  \\\n",
       "0       4.684752      0.746359         1.004829        0.030679   \n",
       "1       5.512799      0.042233         1.076014        0.013122   \n",
       "\n",
       "  param_forest__ccp_alpha param_forest__max_depth param_forest__n_estimators  \\\n",
       "0                     0.0                      10                        400   \n",
       "1                     0.0                      10                        400   \n",
       "\n",
       "  param_tf_vec__max_features param_tf_vec__ngram_range  \\\n",
       "0                      10000                    (1, 1)   \n",
       "1                      10000                    (1, 2)   \n",
       "\n",
       "                                              params  split0_test_score  \\\n",
       "0  {'forest__ccp_alpha': 0.0, 'forest__max_depth'...           0.789796   \n",
       "1  {'forest__ccp_alpha': 0.0, 'forest__max_depth'...           0.790362   \n",
       "\n",
       "   split1_test_score  split2_test_score  split3_test_score  split4_test_score  \\\n",
       "0           0.785393           0.791010           0.789198           0.796888   \n",
       "1           0.786665           0.787739           0.790992           0.793570   \n",
       "\n",
       "   mean_test_score  std_test_score  rank_test_score  \n",
       "0         0.790457        0.003724                1  \n",
       "1         0.789866        0.002450                2  "
      ]
     },
     "execution_count": 11,
     "metadata": {},
     "output_type": "execute_result"
    }
   ],
   "source": [
    "pd.DataFrame(gs.cv_results_).sort_values(by='mean_test_score', ascending=False)"
   ]
  },
  {
   "cell_type": "code",
   "execution_count": 12,
   "id": "7e9ce0de-c8bf-4b90-a793-82c7fd778f23",
   "metadata": {},
   "outputs": [
    {
     "data": {
      "text/plain": [
       "0.8011782749470506"
      ]
     },
     "execution_count": 12,
     "metadata": {},
     "output_type": "execute_result"
    }
   ],
   "source": [
    "gs.score(X_train, y_train)"
   ]
  },
  {
   "cell_type": "code",
   "execution_count": 13,
   "id": "6021caf8-6eeb-4f32-85c2-7fd802e7393f",
   "metadata": {},
   "outputs": [
    {
     "data": {
      "text/plain": [
       "0.791657142857143"
      ]
     },
     "execution_count": 13,
     "metadata": {},
     "output_type": "execute_result"
    }
   ],
   "source": [
    "gs.score(X_test, y_test)"
   ]
  },
  {
   "cell_type": "code",
   "execution_count": 14,
   "id": "a9b4cb81-3849-4c9d-be3a-34ede2d54410",
   "metadata": {
    "tags": []
   },
   "outputs": [
    {
     "data": {
      "text/html": [
       "<div>\n",
       "<style scoped>\n",
       "    .dataframe tbody tr th:only-of-type {\n",
       "        vertical-align: middle;\n",
       "    }\n",
       "\n",
       "    .dataframe tbody tr th {\n",
       "        vertical-align: top;\n",
       "    }\n",
       "\n",
       "    .dataframe thead th {\n",
       "        text-align: right;\n",
       "    }\n",
       "</style>\n",
       "<table border=\"1\" class=\"dataframe\">\n",
       "  <thead>\n",
       "    <tr style=\"text-align: right;\">\n",
       "      <th></th>\n",
       "      <th>word</th>\n",
       "      <th>importance</th>\n",
       "    </tr>\n",
       "  </thead>\n",
       "  <tbody>\n",
       "    <tr>\n",
       "      <th>8353</th>\n",
       "      <td>san</td>\n",
       "      <td>0.031954</td>\n",
       "    </tr>\n",
       "    <tr>\n",
       "      <th>8303</th>\n",
       "      <td>asphalt</td>\n",
       "      <td>0.029455</td>\n",
       "    </tr>\n",
       "    <tr>\n",
       "      <th>2228</th>\n",
       "      <td>implement</td>\n",
       "      <td>0.025447</td>\n",
       "    </tr>\n",
       "    <tr>\n",
       "      <th>8625</th>\n",
       "      <td>enables</td>\n",
       "      <td>0.024814</td>\n",
       "    </tr>\n",
       "    <tr>\n",
       "      <th>3197</th>\n",
       "      <td>70</td>\n",
       "      <td>0.022135</td>\n",
       "    </tr>\n",
       "  </tbody>\n",
       "</table>\n",
       "</div>"
      ],
      "text/plain": [
       "           word  importance\n",
       "8353        san    0.031954\n",
       "8303    asphalt    0.029455\n",
       "2228  implement    0.025447\n",
       "8625    enables    0.024814\n",
       "3197         70    0.022135"
      ]
     },
     "execution_count": 14,
     "metadata": {},
     "output_type": "execute_result"
    }
   ],
   "source": [
    "importances = pd.DataFrame(zip(gs.best_estimator_[0].vocabulary_, gs.best_estimator_[1].feature_importances_), columns = ['word', 'importance'])\n",
    "importances.sort_values(by='importance', ascending=False)[0:5]"
   ]
  },
  {
   "cell_type": "markdown",
   "id": "aca6cf38-5ba5-47e6-a529-0f872ac531a3",
   "metadata": {},
   "source": [
    "I have found very few words that are highly rated by this algorithm and are clearly bad choices.  The current top 5 are shown above to avoid a very long list, but most words in the top 100 or so seem like they could legitimately be important.\n",
    "\n",
    "Below, I check the logistic regression coefficients to see if logistic regression is giving high importance to any stop words."
   ]
  },
  {
   "cell_type": "code",
   "execution_count": 15,
   "id": "be35d52e-2c13-4c1c-b9f9-d6dab529b7d2",
   "metadata": {},
   "outputs": [],
   "source": [
    "pipe = Pipeline([\n",
    "    ('tf_vec', TfidfVectorizer(tokenizer=token_lem, min_df=5, stop_words=stop_words)),\n",
    "    ('logreg', LogisticRegression(n_jobs=-1, solver='saga', max_iter=10_000))\n",
    "])"
   ]
  },
  {
   "cell_type": "code",
   "execution_count": 16,
   "id": "c587d823-9a14-4fe0-83b8-03d56e156751",
   "metadata": {},
   "outputs": [],
   "source": [
    "pipe_params = {\n",
    "    'tf_vec__ngram_range' : [(1,1), (1,2)],\n",
    "    'tf_vec__max_features' : [10_000],\n",
    "    'logreg__C' : [1],\n",
    "    'logreg__penalty' : ['l2']\n",
    "}"
   ]
  },
  {
   "cell_type": "markdown",
   "id": "32e2f5dc-6bb3-4ea5-a22b-bee3761f0211",
   "metadata": {},
   "source": [
    "Logistic regression parameters chosen for this process are mostly the defaults.  I am using the saga solver because it will allow me to later Gridsearch over all regularization methods.  Also, the documentation indicates that saga is a good choice for large datasets."
   ]
  },
  {
   "cell_type": "code",
   "execution_count": 17,
   "id": "a7c237b9-abd1-472c-9812-faa922cc23bd",
   "metadata": {},
   "outputs": [],
   "source": [
    "gs = GridSearchCV(pipe, pipe_params, scoring='f1', cv=5)"
   ]
  },
  {
   "cell_type": "code",
   "execution_count": 18,
   "id": "69836d6a-52eb-44f8-bcaf-ea4c19fd2fdd",
   "metadata": {},
   "outputs": [],
   "source": [
    "gs.fit(X_train, y_train);"
   ]
  },
  {
   "cell_type": "code",
   "execution_count": 19,
   "id": "8a952fd7-d32b-4723-9291-526362d10d65",
   "metadata": {},
   "outputs": [
    {
     "data": {
      "text/plain": [
       "{'logreg__C': 1,\n",
       " 'logreg__penalty': 'l2',\n",
       " 'tf_vec__max_features': 10000,\n",
       " 'tf_vec__ngram_range': (1, 2)}"
      ]
     },
     "execution_count": 19,
     "metadata": {},
     "output_type": "execute_result"
    }
   ],
   "source": [
    "gs.best_params_"
   ]
  },
  {
   "cell_type": "code",
   "execution_count": 20,
   "id": "5836272e-07c0-4aed-bd01-71744703eec2",
   "metadata": {},
   "outputs": [
    {
     "data": {
      "text/html": [
       "<div>\n",
       "<style scoped>\n",
       "    .dataframe tbody tr th:only-of-type {\n",
       "        vertical-align: middle;\n",
       "    }\n",
       "\n",
       "    .dataframe tbody tr th {\n",
       "        vertical-align: top;\n",
       "    }\n",
       "\n",
       "    .dataframe thead th {\n",
       "        text-align: right;\n",
       "    }\n",
       "</style>\n",
       "<table border=\"1\" class=\"dataframe\">\n",
       "  <thead>\n",
       "    <tr style=\"text-align: right;\">\n",
       "      <th></th>\n",
       "      <th>mean_fit_time</th>\n",
       "      <th>std_fit_time</th>\n",
       "      <th>mean_score_time</th>\n",
       "      <th>std_score_time</th>\n",
       "      <th>param_logreg__C</th>\n",
       "      <th>param_logreg__penalty</th>\n",
       "      <th>param_tf_vec__max_features</th>\n",
       "      <th>param_tf_vec__ngram_range</th>\n",
       "      <th>params</th>\n",
       "      <th>split0_test_score</th>\n",
       "      <th>split1_test_score</th>\n",
       "      <th>split2_test_score</th>\n",
       "      <th>split3_test_score</th>\n",
       "      <th>split4_test_score</th>\n",
       "      <th>mean_test_score</th>\n",
       "      <th>std_test_score</th>\n",
       "      <th>rank_test_score</th>\n",
       "    </tr>\n",
       "  </thead>\n",
       "  <tbody>\n",
       "    <tr>\n",
       "      <th>1</th>\n",
       "      <td>5.015736</td>\n",
       "      <td>0.009735</td>\n",
       "      <td>0.997755</td>\n",
       "      <td>0.007100</td>\n",
       "      <td>1</td>\n",
       "      <td>l2</td>\n",
       "      <td>10000</td>\n",
       "      <td>(1, 2)</td>\n",
       "      <td>{'logreg__C': 1, 'logreg__penalty': 'l2', 'tf_...</td>\n",
       "      <td>0.832162</td>\n",
       "      <td>0.823948</td>\n",
       "      <td>0.829261</td>\n",
       "      <td>0.833662</td>\n",
       "      <td>0.834056</td>\n",
       "      <td>0.830618</td>\n",
       "      <td>0.003736</td>\n",
       "      <td>1</td>\n",
       "    </tr>\n",
       "    <tr>\n",
       "      <th>0</th>\n",
       "      <td>3.868643</td>\n",
       "      <td>0.017840</td>\n",
       "      <td>0.922669</td>\n",
       "      <td>0.013044</td>\n",
       "      <td>1</td>\n",
       "      <td>l2</td>\n",
       "      <td>10000</td>\n",
       "      <td>(1, 1)</td>\n",
       "      <td>{'logreg__C': 1, 'logreg__penalty': 'l2', 'tf_...</td>\n",
       "      <td>0.831103</td>\n",
       "      <td>0.823062</td>\n",
       "      <td>0.829823</td>\n",
       "      <td>0.832373</td>\n",
       "      <td>0.835507</td>\n",
       "      <td>0.830374</td>\n",
       "      <td>0.004115</td>\n",
       "      <td>2</td>\n",
       "    </tr>\n",
       "  </tbody>\n",
       "</table>\n",
       "</div>"
      ],
      "text/plain": [
       "   mean_fit_time  std_fit_time  mean_score_time  std_score_time  \\\n",
       "1       5.015736      0.009735         0.997755        0.007100   \n",
       "0       3.868643      0.017840         0.922669        0.013044   \n",
       "\n",
       "  param_logreg__C param_logreg__penalty param_tf_vec__max_features  \\\n",
       "1               1                    l2                      10000   \n",
       "0               1                    l2                      10000   \n",
       "\n",
       "  param_tf_vec__ngram_range  \\\n",
       "1                    (1, 2)   \n",
       "0                    (1, 1)   \n",
       "\n",
       "                                              params  split0_test_score  \\\n",
       "1  {'logreg__C': 1, 'logreg__penalty': 'l2', 'tf_...           0.832162   \n",
       "0  {'logreg__C': 1, 'logreg__penalty': 'l2', 'tf_...           0.831103   \n",
       "\n",
       "   split1_test_score  split2_test_score  split3_test_score  split4_test_score  \\\n",
       "1           0.823948           0.829261           0.833662           0.834056   \n",
       "0           0.823062           0.829823           0.832373           0.835507   \n",
       "\n",
       "   mean_test_score  std_test_score  rank_test_score  \n",
       "1         0.830618        0.003736                1  \n",
       "0         0.830374        0.004115                2  "
      ]
     },
     "execution_count": 20,
     "metadata": {},
     "output_type": "execute_result"
    }
   ],
   "source": [
    "pd.DataFrame(gs.cv_results_).sort_values(by='mean_test_score', ascending=False)"
   ]
  },
  {
   "cell_type": "code",
   "execution_count": 21,
   "id": "b18d2bbd-a106-429d-b281-e0395bd65342",
   "metadata": {},
   "outputs": [
    {
     "data": {
      "text/plain": [
       "0.880370349460848"
      ]
     },
     "execution_count": 21,
     "metadata": {},
     "output_type": "execute_result"
    }
   ],
   "source": [
    "gs.score(X_train, y_train)"
   ]
  },
  {
   "cell_type": "code",
   "execution_count": 22,
   "id": "53aa360f-b384-40b0-b786-a933d86edb21",
   "metadata": {},
   "outputs": [
    {
     "data": {
      "text/plain": [
       "0.8323365100230036"
      ]
     },
     "execution_count": 22,
     "metadata": {},
     "output_type": "execute_result"
    }
   ],
   "source": [
    "gs.score(X_test, y_test)"
   ]
  },
  {
   "cell_type": "code",
   "execution_count": 23,
   "id": "457dafa0-d36a-4f07-b6fd-e6ea28542656",
   "metadata": {
    "tags": []
   },
   "outputs": [
    {
     "data": {
      "text/html": [
       "<div>\n",
       "<style scoped>\n",
       "    .dataframe tbody tr th:only-of-type {\n",
       "        vertical-align: middle;\n",
       "    }\n",
       "\n",
       "    .dataframe tbody tr th {\n",
       "        vertical-align: top;\n",
       "    }\n",
       "\n",
       "    .dataframe thead th {\n",
       "        text-align: right;\n",
       "    }\n",
       "</style>\n",
       "<table border=\"1\" class=\"dataframe\">\n",
       "  <thead>\n",
       "    <tr style=\"text-align: right;\">\n",
       "      <th></th>\n",
       "      <th>word</th>\n",
       "      <th>importance</th>\n",
       "    </tr>\n",
       "  </thead>\n",
       "  <tbody>\n",
       "    <tr>\n",
       "      <th>8657</th>\n",
       "      <td>1930s</td>\n",
       "      <td>5.873823</td>\n",
       "    </tr>\n",
       "    <tr>\n",
       "      <th>9490</th>\n",
       "      <td>after month</td>\n",
       "      <td>5.735986</td>\n",
       "    </tr>\n",
       "    <tr>\n",
       "      <th>2249</th>\n",
       "      <td>beat</td>\n",
       "      <td>5.732212</td>\n",
       "    </tr>\n",
       "    <tr>\n",
       "      <th>2079</th>\n",
       "      <td>parked</td>\n",
       "      <td>4.691416</td>\n",
       "    </tr>\n",
       "    <tr>\n",
       "      <th>2061</th>\n",
       "      <td>lesson</td>\n",
       "      <td>4.618477</td>\n",
       "    </tr>\n",
       "  </tbody>\n",
       "</table>\n",
       "</div>"
      ],
      "text/plain": [
       "             word  importance\n",
       "8657        1930s    5.873823\n",
       "9490  after month    5.735986\n",
       "2249         beat    5.732212\n",
       "2079       parked    4.691416\n",
       "2061       lesson    4.618477"
      ]
     },
     "execution_count": 23,
     "metadata": {},
     "output_type": "execute_result"
    }
   ],
   "source": [
    "importances = pd.DataFrame(zip(gs.best_estimator_[0].vocabulary_, gs.best_estimator_[1].coef_[0]), columns = ['word', 'importance'])\n",
    "importances.sort_values(by='importance', ascending=False)[0:5]"
   ]
  },
  {
   "cell_type": "code",
   "execution_count": 24,
   "id": "6a7c4836-3513-4dae-bb24-5607d1834b48",
   "metadata": {},
   "outputs": [
    {
     "data": {
      "text/html": [
       "<div>\n",
       "<style scoped>\n",
       "    .dataframe tbody tr th:only-of-type {\n",
       "        vertical-align: middle;\n",
       "    }\n",
       "\n",
       "    .dataframe tbody tr th {\n",
       "        vertical-align: top;\n",
       "    }\n",
       "\n",
       "    .dataframe thead th {\n",
       "        text-align: right;\n",
       "    }\n",
       "</style>\n",
       "<table border=\"1\" class=\"dataframe\">\n",
       "  <thead>\n",
       "    <tr style=\"text-align: right;\">\n",
       "      <th></th>\n",
       "      <th>word</th>\n",
       "      <th>importance</th>\n",
       "    </tr>\n",
       "  </thead>\n",
       "  <tbody>\n",
       "    <tr>\n",
       "      <th>5419</th>\n",
       "      <td>sciencedaily</td>\n",
       "      <td>-6.103375</td>\n",
       "    </tr>\n",
       "    <tr>\n",
       "      <th>488</th>\n",
       "      <td>shop</td>\n",
       "      <td>-5.949594</td>\n",
       "    </tr>\n",
       "    <tr>\n",
       "      <th>8111</th>\n",
       "      <td>bos</td>\n",
       "      <td>-5.766675</td>\n",
       "    </tr>\n",
       "    <tr>\n",
       "      <th>8324</th>\n",
       "      <td>compose 2fr</td>\n",
       "      <td>-5.733085</td>\n",
       "    </tr>\n",
       "    <tr>\n",
       "      <th>8392</th>\n",
       "      <td>median age</td>\n",
       "      <td>-5.304551</td>\n",
       "    </tr>\n",
       "  </tbody>\n",
       "</table>\n",
       "</div>"
      ],
      "text/plain": [
       "              word  importance\n",
       "5419  sciencedaily   -6.103375\n",
       "488           shop   -5.949594\n",
       "8111           bos   -5.766675\n",
       "8324   compose 2fr   -5.733085\n",
       "8392    median age   -5.304551"
      ]
     },
     "execution_count": 24,
     "metadata": {},
     "output_type": "execute_result"
    }
   ],
   "source": [
    "importances.sort_values(by='importance', ascending=True)[:5]"
   ]
  },
  {
   "cell_type": "markdown",
   "id": "bbff20eb-5002-4247-b228-5d3c3359ffd2",
   "metadata": {},
   "source": [
    "For the most part, I'm finding that adding stopwords isn't helping with these subreddits.  Stopwords may be more useful if the posts were more spread out in time, because some topics will change over time.  In this case, however, most stopwords I add make the model perform worse on the test data, so I am only using the stopwords identified during EDA."
   ]
  },
  {
   "cell_type": "markdown",
   "id": "9c8a8ad2-f0fd-445a-a118-612811beae72",
   "metadata": {},
   "source": [
    "### Section 9: Model Transformation, Fitting, and Evaluation ###"
   ]
  },
  {
   "cell_type": "markdown",
   "id": "65dbd76d-985b-45c6-b74a-101f587b7916",
   "metadata": {},
   "source": [
    "*The script \"run_models.py,\" in this folder, was used to fit and pickle models for this step of the project.*"
   ]
  },
  {
   "cell_type": "markdown",
   "id": "b868e774-68b9-450f-bc71-67961f36dd0e",
   "metadata": {},
   "source": [
    "Note about vectorizer and models used in this project:  There is a very wide range of choices for lemmatizing and vectorizing NLP data, and this dataset was quite large.  Some decisions were necessary to narrow down the processing, vectorizing, and classification strategies a priori.  I decided to use a simple RegEx tokenizer and lemmatizer to give myself control and transparency.  For the vectorizer, I considered CountVectorizer, TfidfVectorizer, and Word2Vec.  I thought the weighting based on document frequency provided by TfidfVectorizer could be useful, but that many posts would be too short for Word2Vec to develop appropriate similarity scores.  In retrospect, I think Word2Vec would be interesting to try.  Would it improve results by identifying similar words, or is word choice itself an important feature?  For models, I tried every classifier covered so far except decision trees and bagged decision trees, which are less sophisticated versions of Adaboost and Random Forest, and k-neighbors.  It would be interesting to try k-neighbors and some of the other boosting methods.\n",
    "\n",
    "Below, pickles for each model were imported and evaluated after they were fit and stored using the script indicated above.\n",
    "\n",
    "The pickle filename currently is bayes_1, which I believe was the most successful model, as discussed below in conclusions.  Other models can easily be tested by running the import and train/test/split cells at the top of this workbook, then replacing 'bayes_1.p' with any of the other filenames in the pickles folder.\n",
    "\n",
    "For evaluation purposes, the baseline score is 50%, since I included exactly 25,000 comments from each subreddit in these models."
   ]
  },
  {
   "cell_type": "code",
   "execution_count": 25,
   "id": "e1a00d12-80ad-4328-828e-09e92161b357",
   "metadata": {},
   "outputs": [],
   "source": [
    "pickle_filename = 'bayes_1.p'"
   ]
  },
  {
   "cell_type": "code",
   "execution_count": 26,
   "id": "d5a3aa1a-887b-4e11-a1a6-45928339bb05",
   "metadata": {},
   "outputs": [],
   "source": [
    "with open(f'../pickles/{pickle_filename}', mode='rb') as pickle_in:\n",
    "    estimator = pickle.load(pickle_in)"
   ]
  },
  {
   "cell_type": "code",
   "execution_count": 27,
   "id": "5022d1d1-55c2-4070-a5fa-e0ecff825d0f",
   "metadata": {},
   "outputs": [
    {
     "data": {
      "text/html": [
       "<div>\n",
       "<style scoped>\n",
       "    .dataframe tbody tr th:only-of-type {\n",
       "        vertical-align: middle;\n",
       "    }\n",
       "\n",
       "    .dataframe tbody tr th {\n",
       "        vertical-align: top;\n",
       "    }\n",
       "\n",
       "    .dataframe thead th {\n",
       "        text-align: right;\n",
       "    }\n",
       "</style>\n",
       "<table border=\"1\" class=\"dataframe\">\n",
       "  <thead>\n",
       "    <tr style=\"text-align: right;\">\n",
       "      <th></th>\n",
       "      <th>mean_fit_time</th>\n",
       "      <th>std_fit_time</th>\n",
       "      <th>mean_score_time</th>\n",
       "      <th>std_score_time</th>\n",
       "      <th>param_bayes__alpha</th>\n",
       "      <th>param_bayes__fit_prior</th>\n",
       "      <th>param_tf_vec__max_features</th>\n",
       "      <th>param_tf_vec__ngram_range</th>\n",
       "      <th>params</th>\n",
       "      <th>split0_test_score</th>\n",
       "      <th>split1_test_score</th>\n",
       "      <th>split2_test_score</th>\n",
       "      <th>split3_test_score</th>\n",
       "      <th>split4_test_score</th>\n",
       "      <th>mean_test_score</th>\n",
       "      <th>std_test_score</th>\n",
       "      <th>rank_test_score</th>\n",
       "    </tr>\n",
       "  </thead>\n",
       "  <tbody>\n",
       "    <tr>\n",
       "      <th>0</th>\n",
       "      <td>3.906853</td>\n",
       "      <td>0.299514</td>\n",
       "      <td>0.951716</td>\n",
       "      <td>0.020283</td>\n",
       "      <td>0.5</td>\n",
       "      <td>True</td>\n",
       "      <td>10000</td>\n",
       "      <td>(1, 1)</td>\n",
       "      <td>{'bayes__alpha': 0.5, 'bayes__fit_prior': True...</td>\n",
       "      <td>0.837726</td>\n",
       "      <td>0.828862</td>\n",
       "      <td>0.832435</td>\n",
       "      <td>0.835863</td>\n",
       "      <td>0.838902</td>\n",
       "      <td>0.834758</td>\n",
       "      <td>0.003670</td>\n",
       "      <td>1</td>\n",
       "    </tr>\n",
       "    <tr>\n",
       "      <th>2</th>\n",
       "      <td>3.761538</td>\n",
       "      <td>0.015278</td>\n",
       "      <td>0.941291</td>\n",
       "      <td>0.012963</td>\n",
       "      <td>0.5</td>\n",
       "      <td>False</td>\n",
       "      <td>10000</td>\n",
       "      <td>(1, 1)</td>\n",
       "      <td>{'bayes__alpha': 0.5, 'bayes__fit_prior': Fals...</td>\n",
       "      <td>0.837726</td>\n",
       "      <td>0.828862</td>\n",
       "      <td>0.832435</td>\n",
       "      <td>0.835863</td>\n",
       "      <td>0.838902</td>\n",
       "      <td>0.834758</td>\n",
       "      <td>0.003670</td>\n",
       "      <td>1</td>\n",
       "    </tr>\n",
       "    <tr>\n",
       "      <th>4</th>\n",
       "      <td>3.734395</td>\n",
       "      <td>0.019025</td>\n",
       "      <td>0.933607</td>\n",
       "      <td>0.016645</td>\n",
       "      <td>1</td>\n",
       "      <td>True</td>\n",
       "      <td>10000</td>\n",
       "      <td>(1, 1)</td>\n",
       "      <td>{'bayes__alpha': 1, 'bayes__fit_prior': True, ...</td>\n",
       "      <td>0.836260</td>\n",
       "      <td>0.827735</td>\n",
       "      <td>0.833097</td>\n",
       "      <td>0.834328</td>\n",
       "      <td>0.838829</td>\n",
       "      <td>0.834050</td>\n",
       "      <td>0.003704</td>\n",
       "      <td>3</td>\n",
       "    </tr>\n",
       "    <tr>\n",
       "      <th>6</th>\n",
       "      <td>3.751716</td>\n",
       "      <td>0.016619</td>\n",
       "      <td>0.941172</td>\n",
       "      <td>0.009699</td>\n",
       "      <td>1</td>\n",
       "      <td>False</td>\n",
       "      <td>10000</td>\n",
       "      <td>(1, 1)</td>\n",
       "      <td>{'bayes__alpha': 1, 'bayes__fit_prior': False,...</td>\n",
       "      <td>0.836260</td>\n",
       "      <td>0.827735</td>\n",
       "      <td>0.833097</td>\n",
       "      <td>0.834328</td>\n",
       "      <td>0.838829</td>\n",
       "      <td>0.834050</td>\n",
       "      <td>0.003704</td>\n",
       "      <td>3</td>\n",
       "    </tr>\n",
       "    <tr>\n",
       "      <th>8</th>\n",
       "      <td>3.780761</td>\n",
       "      <td>0.033474</td>\n",
       "      <td>0.936764</td>\n",
       "      <td>0.010583</td>\n",
       "      <td>2</td>\n",
       "      <td>True</td>\n",
       "      <td>10000</td>\n",
       "      <td>(1, 1)</td>\n",
       "      <td>{'bayes__alpha': 2, 'bayes__fit_prior': True, ...</td>\n",
       "      <td>0.834691</td>\n",
       "      <td>0.828637</td>\n",
       "      <td>0.831725</td>\n",
       "      <td>0.833238</td>\n",
       "      <td>0.835770</td>\n",
       "      <td>0.832812</td>\n",
       "      <td>0.002493</td>\n",
       "      <td>5</td>\n",
       "    </tr>\n",
       "    <tr>\n",
       "      <th>10</th>\n",
       "      <td>3.737767</td>\n",
       "      <td>0.022840</td>\n",
       "      <td>0.939123</td>\n",
       "      <td>0.010084</td>\n",
       "      <td>2</td>\n",
       "      <td>False</td>\n",
       "      <td>10000</td>\n",
       "      <td>(1, 1)</td>\n",
       "      <td>{'bayes__alpha': 2, 'bayes__fit_prior': False,...</td>\n",
       "      <td>0.834691</td>\n",
       "      <td>0.828637</td>\n",
       "      <td>0.831725</td>\n",
       "      <td>0.833238</td>\n",
       "      <td>0.835770</td>\n",
       "      <td>0.832812</td>\n",
       "      <td>0.002493</td>\n",
       "      <td>5</td>\n",
       "    </tr>\n",
       "    <tr>\n",
       "      <th>5</th>\n",
       "      <td>5.269505</td>\n",
       "      <td>0.021542</td>\n",
       "      <td>1.057511</td>\n",
       "      <td>0.012652</td>\n",
       "      <td>1</td>\n",
       "      <td>True</td>\n",
       "      <td>10000</td>\n",
       "      <td>(1, 2)</td>\n",
       "      <td>{'bayes__alpha': 1, 'bayes__fit_prior': True, ...</td>\n",
       "      <td>0.831979</td>\n",
       "      <td>0.819822</td>\n",
       "      <td>0.822512</td>\n",
       "      <td>0.826512</td>\n",
       "      <td>0.831664</td>\n",
       "      <td>0.826498</td>\n",
       "      <td>0.004841</td>\n",
       "      <td>7</td>\n",
       "    </tr>\n",
       "    <tr>\n",
       "      <th>7</th>\n",
       "      <td>5.262183</td>\n",
       "      <td>0.046336</td>\n",
       "      <td>1.063985</td>\n",
       "      <td>0.014854</td>\n",
       "      <td>1</td>\n",
       "      <td>False</td>\n",
       "      <td>10000</td>\n",
       "      <td>(1, 2)</td>\n",
       "      <td>{'bayes__alpha': 1, 'bayes__fit_prior': False,...</td>\n",
       "      <td>0.831979</td>\n",
       "      <td>0.819822</td>\n",
       "      <td>0.822512</td>\n",
       "      <td>0.826512</td>\n",
       "      <td>0.831664</td>\n",
       "      <td>0.826498</td>\n",
       "      <td>0.004841</td>\n",
       "      <td>7</td>\n",
       "    </tr>\n",
       "    <tr>\n",
       "      <th>1</th>\n",
       "      <td>5.295988</td>\n",
       "      <td>0.062088</td>\n",
       "      <td>1.070553</td>\n",
       "      <td>0.029814</td>\n",
       "      <td>0.5</td>\n",
       "      <td>True</td>\n",
       "      <td>10000</td>\n",
       "      <td>(1, 2)</td>\n",
       "      <td>{'bayes__alpha': 0.5, 'bayes__fit_prior': True...</td>\n",
       "      <td>0.830928</td>\n",
       "      <td>0.817374</td>\n",
       "      <td>0.823696</td>\n",
       "      <td>0.826210</td>\n",
       "      <td>0.833663</td>\n",
       "      <td>0.826374</td>\n",
       "      <td>0.005693</td>\n",
       "      <td>9</td>\n",
       "    </tr>\n",
       "    <tr>\n",
       "      <th>3</th>\n",
       "      <td>5.331939</td>\n",
       "      <td>0.061727</td>\n",
       "      <td>1.075088</td>\n",
       "      <td>0.026060</td>\n",
       "      <td>0.5</td>\n",
       "      <td>False</td>\n",
       "      <td>10000</td>\n",
       "      <td>(1, 2)</td>\n",
       "      <td>{'bayes__alpha': 0.5, 'bayes__fit_prior': Fals...</td>\n",
       "      <td>0.830928</td>\n",
       "      <td>0.817374</td>\n",
       "      <td>0.823696</td>\n",
       "      <td>0.826210</td>\n",
       "      <td>0.833663</td>\n",
       "      <td>0.826374</td>\n",
       "      <td>0.005693</td>\n",
       "      <td>9</td>\n",
       "    </tr>\n",
       "    <tr>\n",
       "      <th>9</th>\n",
       "      <td>5.227504</td>\n",
       "      <td>0.052459</td>\n",
       "      <td>1.043324</td>\n",
       "      <td>0.016913</td>\n",
       "      <td>2</td>\n",
       "      <td>True</td>\n",
       "      <td>10000</td>\n",
       "      <td>(1, 2)</td>\n",
       "      <td>{'bayes__alpha': 2, 'bayes__fit_prior': True, ...</td>\n",
       "      <td>0.830651</td>\n",
       "      <td>0.816853</td>\n",
       "      <td>0.821910</td>\n",
       "      <td>0.825532</td>\n",
       "      <td>0.827858</td>\n",
       "      <td>0.824561</td>\n",
       "      <td>0.004803</td>\n",
       "      <td>11</td>\n",
       "    </tr>\n",
       "    <tr>\n",
       "      <th>11</th>\n",
       "      <td>5.242493</td>\n",
       "      <td>0.016138</td>\n",
       "      <td>1.057130</td>\n",
       "      <td>0.010885</td>\n",
       "      <td>2</td>\n",
       "      <td>False</td>\n",
       "      <td>10000</td>\n",
       "      <td>(1, 2)</td>\n",
       "      <td>{'bayes__alpha': 2, 'bayes__fit_prior': False,...</td>\n",
       "      <td>0.830651</td>\n",
       "      <td>0.816853</td>\n",
       "      <td>0.821910</td>\n",
       "      <td>0.825532</td>\n",
       "      <td>0.827858</td>\n",
       "      <td>0.824561</td>\n",
       "      <td>0.004803</td>\n",
       "      <td>11</td>\n",
       "    </tr>\n",
       "  </tbody>\n",
       "</table>\n",
       "</div>"
      ],
      "text/plain": [
       "    mean_fit_time  std_fit_time  mean_score_time  std_score_time  \\\n",
       "0        3.906853      0.299514         0.951716        0.020283   \n",
       "2        3.761538      0.015278         0.941291        0.012963   \n",
       "4        3.734395      0.019025         0.933607        0.016645   \n",
       "6        3.751716      0.016619         0.941172        0.009699   \n",
       "8        3.780761      0.033474         0.936764        0.010583   \n",
       "10       3.737767      0.022840         0.939123        0.010084   \n",
       "5        5.269505      0.021542         1.057511        0.012652   \n",
       "7        5.262183      0.046336         1.063985        0.014854   \n",
       "1        5.295988      0.062088         1.070553        0.029814   \n",
       "3        5.331939      0.061727         1.075088        0.026060   \n",
       "9        5.227504      0.052459         1.043324        0.016913   \n",
       "11       5.242493      0.016138         1.057130        0.010885   \n",
       "\n",
       "   param_bayes__alpha param_bayes__fit_prior param_tf_vec__max_features  \\\n",
       "0                 0.5                   True                      10000   \n",
       "2                 0.5                  False                      10000   \n",
       "4                   1                   True                      10000   \n",
       "6                   1                  False                      10000   \n",
       "8                   2                   True                      10000   \n",
       "10                  2                  False                      10000   \n",
       "5                   1                   True                      10000   \n",
       "7                   1                  False                      10000   \n",
       "1                 0.5                   True                      10000   \n",
       "3                 0.5                  False                      10000   \n",
       "9                   2                   True                      10000   \n",
       "11                  2                  False                      10000   \n",
       "\n",
       "   param_tf_vec__ngram_range  \\\n",
       "0                     (1, 1)   \n",
       "2                     (1, 1)   \n",
       "4                     (1, 1)   \n",
       "6                     (1, 1)   \n",
       "8                     (1, 1)   \n",
       "10                    (1, 1)   \n",
       "5                     (1, 2)   \n",
       "7                     (1, 2)   \n",
       "1                     (1, 2)   \n",
       "3                     (1, 2)   \n",
       "9                     (1, 2)   \n",
       "11                    (1, 2)   \n",
       "\n",
       "                                               params  split0_test_score  \\\n",
       "0   {'bayes__alpha': 0.5, 'bayes__fit_prior': True...           0.837726   \n",
       "2   {'bayes__alpha': 0.5, 'bayes__fit_prior': Fals...           0.837726   \n",
       "4   {'bayes__alpha': 1, 'bayes__fit_prior': True, ...           0.836260   \n",
       "6   {'bayes__alpha': 1, 'bayes__fit_prior': False,...           0.836260   \n",
       "8   {'bayes__alpha': 2, 'bayes__fit_prior': True, ...           0.834691   \n",
       "10  {'bayes__alpha': 2, 'bayes__fit_prior': False,...           0.834691   \n",
       "5   {'bayes__alpha': 1, 'bayes__fit_prior': True, ...           0.831979   \n",
       "7   {'bayes__alpha': 1, 'bayes__fit_prior': False,...           0.831979   \n",
       "1   {'bayes__alpha': 0.5, 'bayes__fit_prior': True...           0.830928   \n",
       "3   {'bayes__alpha': 0.5, 'bayes__fit_prior': Fals...           0.830928   \n",
       "9   {'bayes__alpha': 2, 'bayes__fit_prior': True, ...           0.830651   \n",
       "11  {'bayes__alpha': 2, 'bayes__fit_prior': False,...           0.830651   \n",
       "\n",
       "    split1_test_score  split2_test_score  split3_test_score  \\\n",
       "0            0.828862           0.832435           0.835863   \n",
       "2            0.828862           0.832435           0.835863   \n",
       "4            0.827735           0.833097           0.834328   \n",
       "6            0.827735           0.833097           0.834328   \n",
       "8            0.828637           0.831725           0.833238   \n",
       "10           0.828637           0.831725           0.833238   \n",
       "5            0.819822           0.822512           0.826512   \n",
       "7            0.819822           0.822512           0.826512   \n",
       "1            0.817374           0.823696           0.826210   \n",
       "3            0.817374           0.823696           0.826210   \n",
       "9            0.816853           0.821910           0.825532   \n",
       "11           0.816853           0.821910           0.825532   \n",
       "\n",
       "    split4_test_score  mean_test_score  std_test_score  rank_test_score  \n",
       "0            0.838902         0.834758        0.003670                1  \n",
       "2            0.838902         0.834758        0.003670                1  \n",
       "4            0.838829         0.834050        0.003704                3  \n",
       "6            0.838829         0.834050        0.003704                3  \n",
       "8            0.835770         0.832812        0.002493                5  \n",
       "10           0.835770         0.832812        0.002493                5  \n",
       "5            0.831664         0.826498        0.004841                7  \n",
       "7            0.831664         0.826498        0.004841                7  \n",
       "1            0.833663         0.826374        0.005693                9  \n",
       "3            0.833663         0.826374        0.005693                9  \n",
       "9            0.827858         0.824561        0.004803               11  \n",
       "11           0.827858         0.824561        0.004803               11  "
      ]
     },
     "execution_count": 27,
     "metadata": {},
     "output_type": "execute_result"
    }
   ],
   "source": [
    "pd.DataFrame(estimator.cv_results_).sort_values(by='mean_test_score', ascending=False)"
   ]
  },
  {
   "cell_type": "code",
   "execution_count": 28,
   "id": "bbbd0d64-f564-4a93-9162-b25a3ae10151",
   "metadata": {
    "tags": []
   },
   "outputs": [
    {
     "name": "stdout",
     "output_type": "stream",
     "text": [
      "Train Data Metrics:\n",
      "\n",
      "              precision    recall  f1-score   support\n",
      "\n",
      "  Futurology     0.8699    0.8620    0.8659     17500\n",
      "     Science     0.8632    0.8711    0.8671     17500\n",
      "\n",
      "    accuracy                         0.8665     35000\n",
      "   macro avg     0.8666    0.8665    0.8665     35000\n",
      "weighted avg     0.8666    0.8665    0.8665     35000\n",
      "\n",
      "ROC AUC score: 0.8665428571428572\n",
      "\n",
      "*************************\n",
      "\n",
      "Test Data Metrics:\n",
      "\n",
      "              precision    recall  f1-score   support\n",
      "\n",
      "  Futurology     0.8381    0.8309    0.8345      7500\n",
      "     Science     0.8324    0.8395    0.8359      7500\n",
      "\n",
      "    accuracy                         0.8352     15000\n",
      "   macro avg     0.8352    0.8352    0.8352     15000\n",
      "weighted avg     0.8352    0.8352    0.8352     15000\n",
      "\n",
      "ROC AUC score: 0.8351999999999999\n",
      "\n",
      "*************************\n",
      "\n",
      "CPU times: user 6.72 s, sys: 18.6 ms, total: 6.74 s\n",
      "Wall time: 6.74 s\n"
     ]
    },
    {
     "data": {
      "image/png": "[encoded data removed]",
      "text/plain": [
       "<Figure size 1080x720 with 6 Axes>"
      ]
     },
     "metadata": {
      "needs_background": "light"
     },
     "output_type": "display_data"
    }
   ],
   "source": [
    "%%time\n",
    "mt.check_metrics(estimator, X_train, X_test, y_train, y_test)"
   ]
  },
  {
   "cell_type": "markdown",
   "id": "bf72c5d6-118b-446a-be72-7d00f3f48442",
   "metadata": {},
   "source": [
    "Multinomial Naive Bayes was one of the most successful models, maxing out an F1 score of nearly 83.5% on the test data.  It was slightly overfit, with a train score of 86.7%.  At the same time, it was one of the quickest algorithms, completing 8 models with 5-fold cross-validation on 50,000 rows of data with 10,000 features in just over 5 minutes.  Overall, Naive Bayes scores were very consistent, and none of hyperparameters tested lowered its score more than about 5%.  Only max features affected the score by more than about 1%.  More max features continued to produce improvements at all levels tested: 1000, 3000, 5000, and 10000.\n",
    "\n",
    "Random forest was one of the weakest models, maxing out at 79.8% F1 score.  The most successful random forests were very highly overfit, scoring nearly 100% on the test data despite cross-validation during the fitting process.  Hyperparameter tuning only resulted in a few percentage points difference in F1 score.  Forcing the model to limit max depth resulted in less overfitting but did not improve scores on the test data.\n",
    "\n",
    "Adaboost had very similar scores to random forests, reaching 80.7% F1 score.  It stood out from the other models in a few ways, however.  Its score was severely hurt by too high a learning rate.  It also performed best with bigrams and stop words, unlike the other models, although these still made very little difference to the F1 score.  Adaboost was also not overfit, with very similar train and test scores.  Limiting max features to 1,000 hurt its performance somewhat.\n",
    "\n",
    "Logistic regression outperformed the decision tree methods, but it fell just short of Multinomial Naive Bayes, with an F1 score of 83.2% (achieved in the stop words selection section above, not in the pickled models - evidence that more gridsearching could lead to further improvement).  It was somewhat overfit, scoring 88% on the test data.  Ridge regression outperformed lasso regression significantly.  Limiting max features to 1000 also harmed the model.\n",
    "\n",
    "Support vector classifier stood by taking significantly longer than other models to fit.  It did slightly edge out Multinomial Naive Bayes for best score on the test data, but the scores were so close that they both rounded to 83.5%.  SVC was also more dependent on hyperparameters than Naive Bayes and very heavily overfit, with nearly 100% F1 score on the train data.\n",
    "\n",
    "Altogether, I consider Multinomial Naive Bayes to be the most successful of the models used here, due to essentially typing SVC for best score on the test data, showing little reliance on hyperparameters, and being among the quickest models to fit.\n",
    "\n",
    "We can see that all of these models yielded similar results on the test data with appropriate hyperparameters.  The difference between the best and worst models was less than 5%, and most hyperparameters tested only affected F1 score by a few percentage points.  The most significant hyperparameter was max features, which produced improvement up to at least 10,000.\n",
    "\n",
    "A successful prediction rate of 83.5% is not bad, considering the wide variety of commenters on reddit.  Many comments are short and contain few keywords that would help a human to predict which subreddit they came from.  I would be surprised if most people could beat this score with these two subreddits."
   ]
  },
  {
   "cell_type": "markdown",
   "id": "c5450ad3-e212-4742-89da-3b31e4876a2f",
   "metadata": {},
   "source": [
    "### Section 10: Conclusions and Recommendations ###"
   ]
  },
  {
   "cell_type": "markdown",
   "id": "cb5c6901-310e-42cb-8a5d-287f2343ba72",
   "metadata": {},
   "source": [
    "Based on the observations made during EDA, there are significat differences between the Science and Futurology subreddits.  The top words suggest that Futurology posts are more focused on specific topics having to do with future hopes and goals, while Science posts are marked by references to sources and current problems and issues.\n",
    "\n",
    "The classification algorithms used were able to classify comments with a success rate of a little over 83%, as measured by F1 score, not bad considering that no comments were filtered out other than moderator bots and rules comments.  This emphasizes that there is a substantive difference between the subreddits, and suggests that machine learning algorithms can help us understand those differences.\n",
    "\n",
    "There are a few possible future directions for this work:\n",
    "- Broaden the timeframe of the posts:  These posts came from a timeframe of only one or two weeks.  Sampling a wider time frame could reduce the dependence of the models on terms related to current events, possibly reducing both performance and overfitting.  On the other hand, posts from a wider time frame may improve performance.  With sufficent time or computing power, many more posts could be included.  It would be interesting to see how this affected the model.\n",
    "- Consider adding in the score or sentiment features to weight posts.  Although these did not look like they would make a large difference when examined in the EDA section, they may make some difference if handled properly.\n",
    "- Continue grid search options, especially for models that were overfit.  Although model quality appears to have reached a maximum for this data, there is more hyperparameter tuning that could be done with additional time or computing power."
   ]
  }
 ],
 "metadata": {
  "kernelspec": {
   "display_name": "Python 3",
   "language": "python",
   "name": "python3"
  },
  "language_info": {
   "codemirror_mode": {
    "name": "ipython",
    "version": 3
   },
   "file_extension": ".py",
   "mimetype": "text/x-python",
   "name": "python",
   "nbconvert_exporter": "python",
   "pygments_lexer": "ipython3",
   "version": "3.8.8"
  }
 },
 "nbformat": 4,
 "nbformat_minor": 5
}
